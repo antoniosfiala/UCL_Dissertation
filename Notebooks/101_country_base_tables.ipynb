{
 "cells": [
  {
   "cell_type": "code",
   "execution_count": 5,
   "metadata": {},
   "outputs": [],
   "source": [
    "notebook_id = 101"
   ]
  },
  {
   "cell_type": "markdown",
   "metadata": {},
   "source": [
    "<a id=\"ID_top\"></a>\n",
    "## Country data organisation\n",
    "\n",
    "This workflow generates (part1), maintains (part2) and exports (part3)\n",
    "\n",
    "Export: one .csv file, with all gravity dataset iso_3 codes, matched against all UN COMTRADE (except \"world\", and the BRI countries)"
   ]
  },
  {
   "cell_type": "markdown",
   "metadata": {},
   "source": [
    "#### Notebook sections:\n",
    "    \n",
    "|| [0| Default imports](#ID_top) || [1|Part1 Reference table generation](#ID_part1) || [2|Part2 Table maintanence](#ID_part2) || [3|Part3 Table export](#ID_part3) || "
   ]
  },
  {
   "cell_type": "markdown",
   "metadata": {},
   "source": [
    "#### Import all packages that could be required"
   ]
  },
  {
   "cell_type": "code",
   "execution_count": 4,
   "metadata": {},
   "outputs": [],
   "source": [
    "# %load s_package_import.py\n",
    "# package library, use to ensure consistency across notebooks, refresh periodically\n",
    "# general packages\n",
    "import os # use with os.listdir(_path_)\n",
    "import requests\n",
    "import csv\n",
    "import time\n",
    "from datetime import datetime\n",
    "from shutil import copyfile\n",
    "\n",
    "#temp check\n",
    "#from shutil import make_archive\n",
    "#import zipfile\n",
    "\n",
    "# data analysis packages\n",
    "import pandas as pd\n",
    "pd.options.display.max_columns = None # don't truncate columns\n",
    "#pd.options.display.max_rows = None\n",
    "\n",
    "import numpy as np\n",
    "import matplotlib.pyplot as plt\n",
    "import geopandas as gpd\n",
    "import descartes\n",
    "\n",
    "# custom scripts\n",
    "import s_file_export\n",
    "import s_filepaths\n",
    "import s_un_comtrade_extract as s_un\n",
    "import s_adj_matrix_plot\n",
    "\n",
    "#=== network analysis\n",
    "import networkx as nx\n",
    "#=== gavity modelling\n",
    "import gme as gme\n"
   ]
  },
  {
   "cell_type": "markdown",
   "metadata": {},
   "source": [
    "#### Import module and declare path variables\n",
    "`import s_filepaths.py`"
   ]
  },
  {
   "cell_type": "code",
   "execution_count": 6,
   "metadata": {},
   "outputs": [],
   "source": [
    "# import ref file\n",
    "import s_filepaths\n",
    "\n",
    "# declare local variables to work with\n",
    "path_raw = s_filepaths.path_raw\n",
    "path_raw_dl = s_filepaths.path_raw_dl\n",
    "path_store = s_filepaths.path_store\n",
    "path_live = s_filepaths.path_live"
   ]
  },
  {
   "cell_type": "markdown",
   "metadata": {},
   "source": [
    "<a id=\"ID_part1\"></a>\n",
    "### Part 1\n",
    "|| [0| Default imports](#ID_top) || [1|Part1 Reference table generation](#ID_part1) || [2|Part2 Table maintanence](#ID_part2) || [3|Part3 Table export](#ID_part3) || "
   ]
  },
  {
   "cell_type": "markdown",
   "metadata": {},
   "source": [
    "**Load UN complete country reference list**"
   ]
  },
  {
   "cell_type": "code",
   "execution_count": 127,
   "metadata": {},
   "outputs": [],
   "source": [
    "# load data frame\n",
    "df_uncom_countries = pd.read_csv(f\"{path_live}input_un_com_2015.csv.gzip\",\n",
    "                               compression=\"gzip\",index_col=\"Unnamed: 0\")"
   ]
  },
  {
   "cell_type": "code",
   "execution_count": 140,
   "metadata": {},
   "outputs": [
    {
     "name": "stdout",
     "output_type": "stream",
     "text": [
      "Index(['rtCode', 'rt3ISO', 'rtTitle', 'ptCode', 'pt3ISO', 'ptTitle', 'period',\n",
      "       'rgDesc', 'yr', 'rgCode', 'cmdCode', 'TradeValue', 'periodDesc',\n",
      "       'pfCode', 'cmdDescE'],\n",
      "      dtype='object')\n"
     ]
    }
   ],
   "source": [
    "# See all columns and select those to keep\n",
    "print(df_uncom_countries.columns)\n",
    "column_keep = [\"pt3ISO\",\"ptCode\"]"
   ]
  },
  {
   "cell_type": "markdown",
   "metadata": {},
   "source": [
    "Select which columns to keep: \n",
    "- ptCode - to get UN code for country\n",
    "- pt3ISO - 3 letter ISO for country to match with other datasets\n",
    "- ptTitle - full UN country name"
   ]
  },
  {
   "cell_type": "code",
   "execution_count": 142,
   "metadata": {},
   "outputs": [
    {
     "name": "stdout",
     "output_type": "stream",
     "text": [
      "UN COMTRADE country count | 234\n"
     ]
    },
    {
     "data": {
      "text/html": [
       "<div>\n",
       "<style scoped>\n",
       "    .dataframe tbody tr th:only-of-type {\n",
       "        vertical-align: middle;\n",
       "    }\n",
       "\n",
       "    .dataframe tbody tr th {\n",
       "        vertical-align: top;\n",
       "    }\n",
       "\n",
       "    .dataframe thead th {\n",
       "        text-align: right;\n",
       "    }\n",
       "</style>\n",
       "<table border=\"1\" class=\"dataframe\">\n",
       "  <thead>\n",
       "    <tr style=\"text-align: right;\">\n",
       "      <th></th>\n",
       "      <th>iso_3</th>\n",
       "      <th>un_code</th>\n",
       "      <th>un_flag</th>\n",
       "    </tr>\n",
       "  </thead>\n",
       "  <tbody>\n",
       "    <tr>\n",
       "      <th>0</th>\n",
       "      <td>WLD</td>\n",
       "      <td>0</td>\n",
       "      <td>1</td>\n",
       "    </tr>\n",
       "    <tr>\n",
       "      <th>1</th>\n",
       "      <td>AFG</td>\n",
       "      <td>4</td>\n",
       "      <td>1</td>\n",
       "    </tr>\n",
       "    <tr>\n",
       "      <th>2</th>\n",
       "      <td>DZA</td>\n",
       "      <td>12</td>\n",
       "      <td>1</td>\n",
       "    </tr>\n",
       "    <tr>\n",
       "      <th>3</th>\n",
       "      <td>ATG</td>\n",
       "      <td>28</td>\n",
       "      <td>1</td>\n",
       "    </tr>\n",
       "    <tr>\n",
       "      <th>4</th>\n",
       "      <td>ARG</td>\n",
       "      <td>32</td>\n",
       "      <td>1</td>\n",
       "    </tr>\n",
       "  </tbody>\n",
       "</table>\n",
       "</div>"
      ],
      "text/plain": [
       "  iso_3  un_code  un_flag\n",
       "0   WLD        0        1\n",
       "1   AFG        4        1\n",
       "2   DZA       12        1\n",
       "3   ATG       28        1\n",
       "4   ARG       32        1"
      ]
     },
     "execution_count": 142,
     "metadata": {},
     "output_type": "execute_result"
    }
   ],
   "source": [
    "# trim down data frame to only key columns and rename, \n",
    "# finally drop any territories / areas without a iso_3 code.\n",
    "df_un_clean = df_uncom_countries.loc[:,column_keep].drop_duplicates().reset_index(drop = True).dropna().copy()\n",
    "column_names = [\"iso_3\",\"un_code\"]\n",
    "\n",
    "df_un_clean.columns = column_names\n",
    "print(f\"UN COMTRADE country count | {len(df_un_clean.iso_3.unique())}\")\n",
    "\n",
    "df_un_clean[\"un_flag\"] = 1\n",
    "\n",
    "df_un_clean.head()"
   ]
  },
  {
   "cell_type": "markdown",
   "metadata": {},
   "source": [
    "**Load in belt and road initiative countries**"
   ]
  },
  {
   "cell_type": "code",
   "execution_count": 143,
   "metadata": {},
   "outputs": [
    {
     "name": "stdout",
     "output_type": "stream",
     "text": [
      "['input_test.csv.gzip', 'input_un_com_2013.csv.gzip', 'input_un_com_2012.csv.gzip', 'input_un_com_2006-2009.csv.gzip', '.DS_Store', 'input_un_codes_ref.csv.gzip', 'input_bri_countries_manual_2020.csv.gzip', 'input_un_com_2016-2019.csv.gzip', 'input_un_com_2002-2005.csv.gzip', 'input_un_com_2014.csv.gzip', 'input_un_com_2015.csv.gzip', 'input_bri_countries_Dumor_Yao.csv.gzip', '2_raw_explainer_doc.md', 'input_dynamic_gravity.csv.gzip', 'input_un_com_2010_merged_ref.csv.gzip', 'input_gme_data_joined.csv.gzip', 'input_un_sample.csv.gzip']\n"
     ]
    }
   ],
   "source": [
    "# View all files in live directory\n",
    "print(os.listdir(f\"{path_live}\"))"
   ]
  },
  {
   "cell_type": "code",
   "execution_count": 144,
   "metadata": {},
   "outputs": [
    {
     "data": {
      "text/html": [
       "<div>\n",
       "<style scoped>\n",
       "    .dataframe tbody tr th:only-of-type {\n",
       "        vertical-align: middle;\n",
       "    }\n",
       "\n",
       "    .dataframe tbody tr th {\n",
       "        vertical-align: top;\n",
       "    }\n",
       "\n",
       "    .dataframe thead th {\n",
       "        text-align: right;\n",
       "    }\n",
       "</style>\n",
       "<table border=\"1\" class=\"dataframe\">\n",
       "  <thead>\n",
       "    <tr style=\"text-align: right;\">\n",
       "      <th></th>\n",
       "      <th>Country</th>\n",
       "      <th>Region</th>\n",
       "      <th>Income category</th>\n",
       "      <th>Year MOU sign</th>\n",
       "      <th>MOU link</th>\n",
       "      <th>Comment</th>\n",
       "      <th>iso_3</th>\n",
       "    </tr>\n",
       "  </thead>\n",
       "  <tbody>\n",
       "    <tr>\n",
       "      <th>0</th>\n",
       "      <td>Afghanistan</td>\n",
       "      <td>South Asia</td>\n",
       "      <td>Low income</td>\n",
       "      <td>2016.0</td>\n",
       "      <td>NaN</td>\n",
       "      <td>https://eng.yidaiyilu.gov.cn/zchj/sbwj/1425.htm</td>\n",
       "      <td>AFG</td>\n",
       "    </tr>\n",
       "    <tr>\n",
       "      <th>1</th>\n",
       "      <td>Albania</td>\n",
       "      <td>Europe &amp; Central Asia</td>\n",
       "      <td>Upper middle income</td>\n",
       "      <td>2017.0</td>\n",
       "      <td>NaN</td>\n",
       "      <td>NaN</td>\n",
       "      <td>ALB</td>\n",
       "    </tr>\n",
       "    <tr>\n",
       "      <th>2</th>\n",
       "      <td>Algeria</td>\n",
       "      <td>Middle East &amp; North Africa</td>\n",
       "      <td>Upper middle income</td>\n",
       "      <td>2018.0</td>\n",
       "      <td>NaN</td>\n",
       "      <td>NaN</td>\n",
       "      <td>DZA</td>\n",
       "    </tr>\n",
       "    <tr>\n",
       "      <th>3</th>\n",
       "      <td>Angola</td>\n",
       "      <td>Sub-Saharan Africa</td>\n",
       "      <td>Lower middle income</td>\n",
       "      <td>2018.0</td>\n",
       "      <td>NaN</td>\n",
       "      <td>NaN</td>\n",
       "      <td>AGO</td>\n",
       "    </tr>\n",
       "    <tr>\n",
       "      <th>4</th>\n",
       "      <td>Antigua and Barbuda</td>\n",
       "      <td>Latin America &amp; Caribbean</td>\n",
       "      <td>High income</td>\n",
       "      <td>2018.0</td>\n",
       "      <td>https://eng.yidaiyilu.gov.cn/qwyw/rdxw/57191.htm</td>\n",
       "      <td>NaN</td>\n",
       "      <td>ATG</td>\n",
       "    </tr>\n",
       "  </tbody>\n",
       "</table>\n",
       "</div>"
      ],
      "text/plain": [
       "               Country                      Region      Income category  \\\n",
       "0          Afghanistan                  South Asia           Low income   \n",
       "1              Albania       Europe & Central Asia  Upper middle income   \n",
       "2              Algeria  Middle East & North Africa  Upper middle income   \n",
       "3               Angola          Sub-Saharan Africa  Lower middle income   \n",
       "4  Antigua and Barbuda   Latin America & Caribbean          High income   \n",
       "\n",
       "   Year MOU sign                                          MOU link  \\\n",
       "0         2016.0                                               NaN   \n",
       "1         2017.0                                               NaN   \n",
       "2         2018.0                                               NaN   \n",
       "3         2018.0                                               NaN   \n",
       "4         2018.0  https://eng.yidaiyilu.gov.cn/qwyw/rdxw/57191.htm   \n",
       "\n",
       "                                           Comment iso_3  \n",
       "0  https://eng.yidaiyilu.gov.cn/zchj/sbwj/1425.htm   AFG  \n",
       "1                                              NaN   ALB  \n",
       "2                                              NaN   DZA  \n",
       "3                                              NaN   AGO  \n",
       "4                                              NaN   ATG  "
      ]
     },
     "execution_count": 144,
     "metadata": {},
     "output_type": "execute_result"
    }
   ],
   "source": [
    "# load data frame\n",
    "df_bri_countries_raw = pd.read_csv(f\"{path_live}input_bri_countries_manual_2020.csv.gzip\",\n",
    "                               compression=\"gzip\",index_col=\"Unnamed: 0\")\n",
    "df_bri_countries_raw.head()"
   ]
  },
  {
   "cell_type": "code",
   "execution_count": 98,
   "metadata": {},
   "outputs": [
    {
     "data": {
      "text/html": [
       "<div>\n",
       "<style scoped>\n",
       "    .dataframe tbody tr th:only-of-type {\n",
       "        vertical-align: middle;\n",
       "    }\n",
       "\n",
       "    .dataframe tbody tr th {\n",
       "        vertical-align: top;\n",
       "    }\n",
       "\n",
       "    .dataframe thead th {\n",
       "        text-align: right;\n",
       "    }\n",
       "</style>\n",
       "<table border=\"1\" class=\"dataframe\">\n",
       "  <thead>\n",
       "    <tr style=\"text-align: right;\">\n",
       "      <th></th>\n",
       "      <th>Country</th>\n",
       "      <th>Region</th>\n",
       "      <th>Income category</th>\n",
       "      <th>Year MOU sign</th>\n",
       "      <th>MOU link</th>\n",
       "      <th>Comment</th>\n",
       "      <th>iso_3</th>\n",
       "    </tr>\n",
       "  </thead>\n",
       "  <tbody>\n",
       "    <tr>\n",
       "      <th>87</th>\n",
       "      <td>Nigeria</td>\n",
       "      <td>Sub-Saharan Africa</td>\n",
       "      <td>Lower middle income</td>\n",
       "      <td>2018.0</td>\n",
       "      <td>NaN</td>\n",
       "      <td>NaN</td>\n",
       "      <td>NGA</td>\n",
       "    </tr>\n",
       "  </tbody>\n",
       "</table>\n",
       "</div>"
      ],
      "text/plain": [
       "    Country              Region      Income category  Year MOU sign MOU link  \\\n",
       "87  Nigeria  Sub-Saharan Africa  Lower middle income         2018.0      NaN   \n",
       "\n",
       "   Comment iso_3  \n",
       "87     NaN   NGA  "
      ]
     },
     "execution_count": 98,
     "metadata": {},
     "output_type": "execute_result"
    }
   ],
   "source": [
    "df_bri_countries_raw[df_bri_countries_raw.iso_3 == \"NGA\"]"
   ]
  },
  {
   "cell_type": "code",
   "execution_count": 116,
   "metadata": {},
   "outputs": [
    {
     "name": "stdout",
     "output_type": "stream",
     "text": [
      "BRI country count | 138\n"
     ]
    },
    {
     "data": {
      "text/html": [
       "<div>\n",
       "<style scoped>\n",
       "    .dataframe tbody tr th:only-of-type {\n",
       "        vertical-align: middle;\n",
       "    }\n",
       "\n",
       "    .dataframe tbody tr th {\n",
       "        vertical-align: top;\n",
       "    }\n",
       "\n",
       "    .dataframe thead th {\n",
       "        text-align: right;\n",
       "    }\n",
       "</style>\n",
       "<table border=\"1\" class=\"dataframe\">\n",
       "  <thead>\n",
       "    <tr style=\"text-align: right;\">\n",
       "      <th></th>\n",
       "      <th>iso_3</th>\n",
       "      <th>bri_year</th>\n",
       "      <th>bri_data</th>\n",
       "    </tr>\n",
       "  </thead>\n",
       "  <tbody>\n",
       "    <tr>\n",
       "      <th>0</th>\n",
       "      <td>AFG</td>\n",
       "      <td>2016.0</td>\n",
       "      <td>1</td>\n",
       "    </tr>\n",
       "    <tr>\n",
       "      <th>1</th>\n",
       "      <td>ALB</td>\n",
       "      <td>2017.0</td>\n",
       "      <td>1</td>\n",
       "    </tr>\n",
       "    <tr>\n",
       "      <th>2</th>\n",
       "      <td>DZA</td>\n",
       "      <td>2018.0</td>\n",
       "      <td>1</td>\n",
       "    </tr>\n",
       "    <tr>\n",
       "      <th>3</th>\n",
       "      <td>AGO</td>\n",
       "      <td>2018.0</td>\n",
       "      <td>1</td>\n",
       "    </tr>\n",
       "    <tr>\n",
       "      <th>4</th>\n",
       "      <td>ATG</td>\n",
       "      <td>2018.0</td>\n",
       "      <td>1</td>\n",
       "    </tr>\n",
       "  </tbody>\n",
       "</table>\n",
       "</div>"
      ],
      "text/plain": [
       "  iso_3  bri_year  bri_data\n",
       "0   AFG    2016.0         1\n",
       "1   ALB    2017.0         1\n",
       "2   DZA    2018.0         1\n",
       "3   AGO    2018.0         1\n",
       "4   ATG    2018.0         1"
      ]
     },
     "execution_count": 116,
     "metadata": {},
     "output_type": "execute_result"
    }
   ],
   "source": [
    "# trim dataframe\n",
    "df_bri_countries = df_bri_countries_raw.loc[:,[\"iso_3\",\"Year MOU sign\"]]\n",
    "# rename columns \n",
    "df_bri_countries.columns = [\"iso_3\",\"bri_year\"]\n",
    "df_bri_countries[\"bri_data\"] = 1\n",
    "print(f\"BRI country count | {len(df_bri_countries.iso_3.unique())}\")\n",
    "df_bri_countries.head()"
   ]
  },
  {
   "cell_type": "markdown",
   "metadata": {},
   "source": [
    "**Load Gravity dataset**"
   ]
  },
  {
   "cell_type": "code",
   "execution_count": 72,
   "metadata": {},
   "outputs": [],
   "source": [
    "# load gravity dataset\n",
    "file_name = \"input_dynamic_gravity.csv.gzip\"\n",
    "df_grav_raw = pd.read_csv(f\"{path_live}{file_name}\",compression=\"gzip\")\n",
    "#df_grav_raw.head()"
   ]
  },
  {
   "cell_type": "code",
   "execution_count": 117,
   "metadata": {},
   "outputs": [
    {
     "name": "stdout",
     "output_type": "stream",
     "text": [
      "Gravity country count | 253\n"
     ]
    },
    {
     "data": {
      "text/html": [
       "<div>\n",
       "<style scoped>\n",
       "    .dataframe tbody tr th:only-of-type {\n",
       "        vertical-align: middle;\n",
       "    }\n",
       "\n",
       "    .dataframe tbody tr th {\n",
       "        vertical-align: top;\n",
       "    }\n",
       "\n",
       "    .dataframe thead th {\n",
       "        text-align: right;\n",
       "    }\n",
       "</style>\n",
       "<table border=\"1\" class=\"dataframe\">\n",
       "  <thead>\n",
       "    <tr style=\"text-align: right;\">\n",
       "      <th></th>\n",
       "      <th>iso_3</th>\n",
       "      <th>country_name</th>\n",
       "      <th>lat</th>\n",
       "      <th>long</th>\n",
       "    </tr>\n",
       "  </thead>\n",
       "  <tbody>\n",
       "    <tr>\n",
       "      <th>248</th>\n",
       "      <td>WSM</td>\n",
       "      <td>Samoa</td>\n",
       "      <td>-13.841545</td>\n",
       "      <td>-171.738650</td>\n",
       "    </tr>\n",
       "    <tr>\n",
       "      <th>249</th>\n",
       "      <td>YEM</td>\n",
       "      <td>Yemen</td>\n",
       "      <td>14.599034</td>\n",
       "      <td>45.970097</td>\n",
       "    </tr>\n",
       "    <tr>\n",
       "      <th>250</th>\n",
       "      <td>ZAF</td>\n",
       "      <td>South Africa</td>\n",
       "      <td>-29.420467</td>\n",
       "      <td>25.905807</td>\n",
       "    </tr>\n",
       "    <tr>\n",
       "      <th>251</th>\n",
       "      <td>ZMB</td>\n",
       "      <td>Zambia</td>\n",
       "      <td>-13.461213</td>\n",
       "      <td>27.676571</td>\n",
       "    </tr>\n",
       "    <tr>\n",
       "      <th>252</th>\n",
       "      <td>ZWE</td>\n",
       "      <td>Zimbabwe</td>\n",
       "      <td>-18.929132</td>\n",
       "      <td>29.789742</td>\n",
       "    </tr>\n",
       "  </tbody>\n",
       "</table>\n",
       "</div>"
      ],
      "text/plain": [
       "    iso_3  country_name        lat        long\n",
       "248   WSM         Samoa -13.841545 -171.738650\n",
       "249   YEM         Yemen  14.599034   45.970097\n",
       "250   ZAF  South Africa -29.420467   25.905807\n",
       "251   ZMB        Zambia -13.461213   27.676571\n",
       "252   ZWE      Zimbabwe -18.929132   29.789742"
      ]
     },
     "execution_count": 117,
     "metadata": {},
     "output_type": "execute_result"
    }
   ],
   "source": [
    "column_keep = [\"iso3_d\",\"country_d\",\"lat_d\",\"lng_d\"]\n",
    "df_grav = df_grav_raw.loc[:,column_keep].drop_duplicates().reset_index(drop = True).copy()\n",
    "\n",
    "column_names = [\"iso_3\",\"country_name\",\"lat\",\"long\"]\n",
    "df_grav.columns = column_names\n",
    "print(f\"Gravity country count | {len(df_grav.iso_3.unique())}\")\n",
    "df_grav.tail()"
   ]
  },
  {
   "cell_type": "markdown",
   "metadata": {},
   "source": [
    "<a id=\"ID_part2\"></a>\n",
    "### Part 2 Merge and any other transformation\n",
    "|| [0| Default imports](#ID_top) || [1|Part1 Reference table generation](#ID_part1) || [2|Part2 Table maintanence](#ID_part2) || [3|Part3 Table export](#ID_part3) || "
   ]
  },
  {
   "cell_type": "markdown",
   "metadata": {},
   "source": [
    "Use gravity dataset with highest iso_3 country count.\n",
    "Make sure all matched."
   ]
  },
  {
   "cell_type": "code",
   "execution_count": 118,
   "metadata": {},
   "outputs": [],
   "source": [
    "# Join dataframes\n",
    "dataframes = [df_grav,df_un_clean,df_bri_countries]"
   ]
  },
  {
   "cell_type": "code",
   "execution_count": 148,
   "metadata": {},
   "outputs": [
    {
     "name": "stdout",
     "output_type": "stream",
     "text": [
      "BRI 138\n",
      "UN 233\n"
     ]
    }
   ],
   "source": [
    "# testing joins (all 234 un data points joined | all 138 BRI joined)\n",
    "print(\"BRI\",len(df_grav.merge(df_bri_countries, on = \"iso_3\",how = \"inner\")))\n",
    "print(\"UN\",len(df_grav.merge(df_un_clean, on = \"iso_3\",how = \"inner\"))) # missing one [\"WLD\"]"
   ]
  },
  {
   "cell_type": "code",
   "execution_count": 146,
   "metadata": {},
   "outputs": [
    {
     "data": {
      "text/html": [
       "<div>\n",
       "<style scoped>\n",
       "    .dataframe tbody tr th:only-of-type {\n",
       "        vertical-align: middle;\n",
       "    }\n",
       "\n",
       "    .dataframe tbody tr th {\n",
       "        vertical-align: top;\n",
       "    }\n",
       "\n",
       "    .dataframe thead th {\n",
       "        text-align: right;\n",
       "    }\n",
       "</style>\n",
       "<table border=\"1\" class=\"dataframe\">\n",
       "  <thead>\n",
       "    <tr style=\"text-align: right;\">\n",
       "      <th></th>\n",
       "      <th>iso_3</th>\n",
       "      <th>country_name</th>\n",
       "      <th>lat</th>\n",
       "      <th>long</th>\n",
       "      <th>bri_year</th>\n",
       "      <th>bri_data</th>\n",
       "      <th>un_code</th>\n",
       "      <th>un_flag</th>\n",
       "    </tr>\n",
       "  </thead>\n",
       "  <tbody>\n",
       "    <tr>\n",
       "      <th>248</th>\n",
       "      <td>WSM</td>\n",
       "      <td>Samoa</td>\n",
       "      <td>-13.841545</td>\n",
       "      <td>-171.738650</td>\n",
       "      <td>2018.0</td>\n",
       "      <td>1.0</td>\n",
       "      <td>882.0</td>\n",
       "      <td>1.0</td>\n",
       "    </tr>\n",
       "    <tr>\n",
       "      <th>249</th>\n",
       "      <td>YEM</td>\n",
       "      <td>Yemen</td>\n",
       "      <td>14.599034</td>\n",
       "      <td>45.970097</td>\n",
       "      <td>2017.0</td>\n",
       "      <td>1.0</td>\n",
       "      <td>887.0</td>\n",
       "      <td>1.0</td>\n",
       "    </tr>\n",
       "    <tr>\n",
       "      <th>250</th>\n",
       "      <td>ZAF</td>\n",
       "      <td>South Africa</td>\n",
       "      <td>-29.420467</td>\n",
       "      <td>25.905807</td>\n",
       "      <td>2015.0</td>\n",
       "      <td>1.0</td>\n",
       "      <td>710.0</td>\n",
       "      <td>1.0</td>\n",
       "    </tr>\n",
       "    <tr>\n",
       "      <th>251</th>\n",
       "      <td>ZMB</td>\n",
       "      <td>Zambia</td>\n",
       "      <td>-13.461213</td>\n",
       "      <td>27.676571</td>\n",
       "      <td>2018.0</td>\n",
       "      <td>1.0</td>\n",
       "      <td>894.0</td>\n",
       "      <td>1.0</td>\n",
       "    </tr>\n",
       "    <tr>\n",
       "      <th>252</th>\n",
       "      <td>ZWE</td>\n",
       "      <td>Zimbabwe</td>\n",
       "      <td>-18.929132</td>\n",
       "      <td>29.789742</td>\n",
       "      <td>2018.0</td>\n",
       "      <td>1.0</td>\n",
       "      <td>716.0</td>\n",
       "      <td>1.0</td>\n",
       "    </tr>\n",
       "  </tbody>\n",
       "</table>\n",
       "</div>"
      ],
      "text/plain": [
       "    iso_3  country_name        lat        long  bri_year  bri_data  un_code  \\\n",
       "248   WSM         Samoa -13.841545 -171.738650    2018.0       1.0    882.0   \n",
       "249   YEM         Yemen  14.599034   45.970097    2017.0       1.0    887.0   \n",
       "250   ZAF  South Africa -29.420467   25.905807    2015.0       1.0    710.0   \n",
       "251   ZMB        Zambia -13.461213   27.676571    2018.0       1.0    894.0   \n",
       "252   ZWE      Zimbabwe -18.929132   29.789742    2018.0       1.0    716.0   \n",
       "\n",
       "     un_flag  \n",
       "248      1.0  \n",
       "249      1.0  \n",
       "250      1.0  \n",
       "251      1.0  \n",
       "252      1.0  "
      ]
     },
     "execution_count": 146,
     "metadata": {},
     "output_type": "execute_result"
    }
   ],
   "source": [
    "df_master = df_grav.merge(df_bri_countries, on = \"iso_3\",how = \"left\")\n",
    "df_master = df_master.merge(df_un_clean, on = \"iso_3\",how = \"left\")\n",
    "df_master.tail()"
   ]
  },
  {
   "cell_type": "code",
   "execution_count": 147,
   "metadata": {},
   "outputs": [
    {
     "data": {
      "text/html": [
       "<div>\n",
       "<style scoped>\n",
       "    .dataframe tbody tr th:only-of-type {\n",
       "        vertical-align: middle;\n",
       "    }\n",
       "\n",
       "    .dataframe tbody tr th {\n",
       "        vertical-align: top;\n",
       "    }\n",
       "\n",
       "    .dataframe thead th {\n",
       "        text-align: right;\n",
       "    }\n",
       "</style>\n",
       "<table border=\"1\" class=\"dataframe\">\n",
       "  <thead>\n",
       "    <tr style=\"text-align: right;\">\n",
       "      <th></th>\n",
       "      <th>lat</th>\n",
       "      <th>long</th>\n",
       "      <th>bri_year</th>\n",
       "      <th>bri_data</th>\n",
       "      <th>un_code</th>\n",
       "      <th>un_flag</th>\n",
       "    </tr>\n",
       "  </thead>\n",
       "  <tbody>\n",
       "    <tr>\n",
       "      <th>count</th>\n",
       "      <td>252.000000</td>\n",
       "      <td>252.000000</td>\n",
       "      <td>132.000000</td>\n",
       "      <td>138.0</td>\n",
       "      <td>233.000000</td>\n",
       "      <td>233.0</td>\n",
       "    </tr>\n",
       "    <tr>\n",
       "      <th>mean</th>\n",
       "      <td>16.790338</td>\n",
       "      <td>12.884589</td>\n",
       "      <td>2017.159091</td>\n",
       "      <td>1.0</td>\n",
       "      <td>428.334764</td>\n",
       "      <td>1.0</td>\n",
       "    </tr>\n",
       "    <tr>\n",
       "      <th>std</th>\n",
       "      <td>26.297986</td>\n",
       "      <td>73.370325</td>\n",
       "      <td>1.562097</td>\n",
       "      <td>0.0</td>\n",
       "      <td>252.774057</td>\n",
       "      <td>0.0</td>\n",
       "    </tr>\n",
       "    <tr>\n",
       "      <th>min</th>\n",
       "      <td>-69.247757</td>\n",
       "      <td>-176.183330</td>\n",
       "      <td>2013.000000</td>\n",
       "      <td>1.0</td>\n",
       "      <td>4.000000</td>\n",
       "      <td>1.0</td>\n",
       "    </tr>\n",
       "    <tr>\n",
       "      <th>25%</th>\n",
       "      <td>1.249773</td>\n",
       "      <td>-49.846912</td>\n",
       "      <td>2017.000000</td>\n",
       "      <td>1.0</td>\n",
       "      <td>212.000000</td>\n",
       "      <td>1.0</td>\n",
       "    </tr>\n",
       "    <tr>\n",
       "      <th>50%</th>\n",
       "      <td>16.039415</td>\n",
       "      <td>16.301794</td>\n",
       "      <td>2018.000000</td>\n",
       "      <td>1.0</td>\n",
       "      <td>428.000000</td>\n",
       "      <td>1.0</td>\n",
       "    </tr>\n",
       "    <tr>\n",
       "      <th>75%</th>\n",
       "      <td>38.927057</td>\n",
       "      <td>47.003645</td>\n",
       "      <td>2018.000000</td>\n",
       "      <td>1.0</td>\n",
       "      <td>646.000000</td>\n",
       "      <td>1.0</td>\n",
       "    </tr>\n",
       "    <tr>\n",
       "      <th>max</th>\n",
       "      <td>78.216682</td>\n",
       "      <td>179.216640</td>\n",
       "      <td>2020.000000</td>\n",
       "      <td>1.0</td>\n",
       "      <td>894.000000</td>\n",
       "      <td>1.0</td>\n",
       "    </tr>\n",
       "  </tbody>\n",
       "</table>\n",
       "</div>"
      ],
      "text/plain": [
       "              lat        long     bri_year  bri_data     un_code  un_flag\n",
       "count  252.000000  252.000000   132.000000     138.0  233.000000    233.0\n",
       "mean    16.790338   12.884589  2017.159091       1.0  428.334764      1.0\n",
       "std     26.297986   73.370325     1.562097       0.0  252.774057      0.0\n",
       "min    -69.247757 -176.183330  2013.000000       1.0    4.000000      1.0\n",
       "25%      1.249773  -49.846912  2017.000000       1.0  212.000000      1.0\n",
       "50%     16.039415   16.301794  2018.000000       1.0  428.000000      1.0\n",
       "75%     38.927057   47.003645  2018.000000       1.0  646.000000      1.0\n",
       "max     78.216682  179.216640  2020.000000       1.0  894.000000      1.0"
      ]
     },
     "execution_count": 147,
     "metadata": {},
     "output_type": "execute_result"
    }
   ],
   "source": [
    "df_master.describe()"
   ]
  },
  {
   "cell_type": "code",
   "execution_count": 150,
   "metadata": {},
   "outputs": [],
   "source": [
    "#df_master[df_master.iso_3 == \"NGA\"]\n",
    "#df_master.iso_3.value_counts().head() # just a check for uniques"
   ]
  },
  {
   "cell_type": "markdown",
   "metadata": {},
   "source": [
    "<a id=\"ID_part3\"></a>\n",
    "### Part 3 | Export\n",
    "|| [0| Default imports](#ID_top) || [1|Part1](#ID_part1) || [2|Part2](#ID_part2) || [3|Part3](#ID_part3) || [4|Part4](#ID_part4) || [5|Part5](#ID_part5) ||"
   ]
  },
  {
   "cell_type": "code",
   "execution_count": 152,
   "metadata": {},
   "outputs": [
    {
     "name": "stdout",
     "output_type": "stream",
     "text": [
      "Export | ../Data/1_raw_processed_backup/store_101_master_country_table_20200726_2144.csv | COMPLETE\n",
      "COPY   | ../Data/2_raw_processed_input/input_101_master_country_table.csv.gzip | COMPLETE\n"
     ]
    }
   ],
   "source": [
    "file_name = f\"{notebook_id}_master_country_table\"\n",
    "s_file_export.f_df_export(df_master,file_name)"
   ]
  }
 ],
 "metadata": {
  "kernelspec": {
   "display_name": "Python 3",
   "language": "python",
   "name": "python3"
  },
  "language_info": {
   "codemirror_mode": {
    "name": "ipython",
    "version": 3
   },
   "file_extension": ".py",
   "mimetype": "text/x-python",
   "name": "python",
   "nbconvert_exporter": "python",
   "pygments_lexer": "ipython3",
   "version": "3.7.4"
  }
 },
 "nbformat": 4,
 "nbformat_minor": 2
}
