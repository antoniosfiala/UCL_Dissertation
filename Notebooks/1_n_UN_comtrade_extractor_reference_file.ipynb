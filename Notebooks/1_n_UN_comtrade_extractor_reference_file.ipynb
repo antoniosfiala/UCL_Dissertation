{
 "cells": [
  {
   "cell_type": "markdown",
   "metadata": {},
   "source": [
    "<a id=\"ID_top\"></a>\n",
    "## UNCOMTRADE API extractor for reference file\n",
    "\n",
    "Extraction of UNCOMTRADE to generate reference file with UN country reference codes required for API download."
   ]
  },
  {
   "cell_type": "markdown",
   "metadata": {},
   "source": [
    "#### Notebook sections:\n",
    "    \n",
    "|| [0|Top](#ID_top) || [1|Part1](#ID_part1) || [2|Part2](#ID_part2) || [3|Part3](#ID_part3) || [4|Part4](#ID_part4) || [5|Part5](#ID_part5) ||"
   ]
  },
  {
   "cell_type": "markdown",
   "metadata": {},
   "source": [
    "#### Install all packages required"
   ]
  },
  {
   "cell_type": "code",
   "execution_count": 1,
   "metadata": {},
   "outputs": [],
   "source": [
    "# %load s_package_import.py\n",
    "# package library, use to ensure consistency across notebooks, refresh periodically\n",
    "# general packages\n",
    "import os # use with os.listdir(_path_)\n",
    "import requests\n",
    "import csv\n",
    "import time\n",
    "from datetime import datetime\n",
    "from shutil import copyfile\n",
    "\n",
    "# data analysis packages\n",
    "import pandas as pd\n",
    "import numpy as np\n",
    "import matplotlib.pyplot as plt\n",
    "\n",
    "# custom scripts\n",
    "import s_file_export\n",
    "import s_filepaths\n",
    "import s_un_comtrade_extract as s_un\n",
    "\n",
    "#=== network analysis\n",
    "import networkx as nx\n"
   ]
  },
  {
   "cell_type": "code",
   "execution_count": 2,
   "metadata": {},
   "outputs": [],
   "source": [
    "# import ref file (in case above script is not triggered)\n",
    "import s_filepaths\n",
    "\n",
    "# declare local variables to work with\n",
    "path_raw = s_filepaths.path_raw\n",
    "path_raw_dl = s_filepaths.path_raw_dl\n",
    "path_store = s_filepaths.path_store\n",
    "path_live = s_filepaths.path_live"
   ]
  },
  {
   "cell_type": "markdown",
   "metadata": {},
   "source": [
    "**Notebook settings**"
   ]
  },
  {
   "cell_type": "code",
   "execution_count": 3,
   "metadata": {},
   "outputs": [],
   "source": [
    "create_ref_doc = True"
   ]
  },
  {
   "cell_type": "markdown",
   "metadata": {},
   "source": [
    "<a id=\"ID_part1\"></a>\n",
    "### Set up fetching URL\n",
    "|| [0|Top](#ID_top) || [1|Part1](#ID_part1) || [2|Part2](#ID_part2) || [3|Part3](#ID_part3) || [4|Part4](#ID_part4) || [5|Part5](#ID_part5) ||\n",
    "\n",
    "Key for URL get headings, [here](https://comtrade.un.org/api/swagger/ui/index#!/Data/Data_GetData) || Reporter explanation, [here](https://comtrade.un.org/data/doc/api/#reporters) || Reporter ids [here](https://comtrade.un.org/Data/cache/reporterAreas.json)"
   ]
  },
  {
   "cell_type": "code",
   "execution_count": 4,
   "metadata": {},
   "outputs": [
    {
     "name": "stdout",
     "output_type": "stream",
     "text": [
      "WORKING ON | Country 4| URL https://comtrade.un.org/api/get?r=4&p=all&freq=A&ps=2010&cc=TOTAL\n",
      "OBLIGATORY PAUSE\n",
      "Export | ../Data/0_raw/1_auto_download/store_un_com_0_test_ref_20200623_2147.csv | COMPLETE\n",
      "COPY   | SKIP\n"
     ]
    }
   ],
   "source": [
    "if create_ref_doc:\n",
    "    # test run, country 4 (AFG) as test case with only TOTAL trade for one year (2010), with no copy of file\n",
    "    un_extract = s_un.f_un_comtrade_data(p_r_country = [\"4\"],p_p_country = [\"all\"],p_ps_years=[\"2010\"],p_extra = \"cc=TOTAL\")\n",
    "    s_file_export.f_df_export(un_extract[0][0],\"un_com_0_test_ref\",p_copy=False,p_loc1 = path_raw_dl)\n",
    "else:\n",
    "    print(\"Skipped\")"
   ]
  },
  {
   "cell_type": "markdown",
   "metadata": {},
   "source": [
    "<a id=\"ID_part2\"></a>\n",
    "### Part 2 | Create reference document for UN IDs\n",
    "|| [0|Top](#ID_top) || [1|Part1](#ID_part1) || [2|Part2](#ID_part2) || [3|Part3](#ID_part3) || [4|Part4](#ID_part4) || [5|Part5](#ID_part5) ||"
   ]
  },
  {
   "cell_type": "code",
   "execution_count": 5,
   "metadata": {},
   "outputs": [
    {
     "name": "stdout",
     "output_type": "stream",
     "text": [
      "Skipped\n"
     ]
    }
   ],
   "source": [
    "if create_ref_doc:\n",
    "    # list of all files\n",
    "    filenames = os.listdir(file_path_2_input)\n",
    "    print(filenames)\n",
    "\n",
    "    # list of file names that can be read with same rule\n",
    "    file_name = \"input_un_com_usa_ref.csv.gzip\"\n",
    "    \n",
    "    df_un_usa_ref = pd.read_csv(f\"{file_path_2_input}{file_name}\",compression= \"gzip\")\n",
    "    \n",
    "    useful_columns = ['pt3ISO','ptCode','ptTitle','pt3ISO2',\n",
    "       'ptCode2',  'ptTitle2']\n",
    "    df_un_usa_ref.columns\n",
    "else:\n",
    "    print(\"Skipped\")"
   ]
  },
  {
   "cell_type": "code",
   "execution_count": 6,
   "metadata": {},
   "outputs": [
    {
     "name": "stdout",
     "output_type": "stream",
     "text": [
      "Skipped\n"
     ]
    }
   ],
   "source": [
    "if create_ref_doc:\n",
    "    # reference dataframe\n",
    "    un_ref_data = df_un_usa_ref.loc[:,useful_columns].drop_duplicates()\n",
    "    un_ref_data = un_ref_data.iloc[:,0:3].copy()\n",
    "\n",
    "    af_save.f_export(un_ref_data,\"un_codes_ref\")\n",
    "else:\n",
    "    print(\"Skipped\")"
   ]
  },
  {
   "cell_type": "markdown",
   "metadata": {},
   "source": [
    "<a id=\"ID_part5\"></a>\n",
    "### Part 5\n",
    "|| [0|Top](#ID_top) || [1|Part1](#ID_part1) || [2|Part2](#ID_part2) || [3|Part3](#ID_part3) || [4|Part4](#ID_part4) || [5|Part5](#ID_part5) ||"
   ]
  }
 ],
 "metadata": {
  "kernelspec": {
   "display_name": "Python 3",
   "language": "python",
   "name": "python3"
  },
  "language_info": {
   "codemirror_mode": {
    "name": "ipython",
    "version": 3
   },
   "file_extension": ".py",
   "mimetype": "text/x-python",
   "name": "python",
   "nbconvert_exporter": "python",
   "pygments_lexer": "ipython3",
   "version": "3.7.4"
  }
 },
 "nbformat": 4,
 "nbformat_minor": 2
}
