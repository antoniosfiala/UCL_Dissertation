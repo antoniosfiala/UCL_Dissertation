{
 "cells": [
  {
   "cell_type": "code",
   "execution_count": 1,
   "metadata": {},
   "outputs": [],
   "source": [
    "notebook_id = \"131\""
   ]
  },
  {
   "cell_type": "markdown",
   "metadata": {},
   "source": [
    "<a id=\"ID_top\"></a>\n",
    "## Country data organisation\n",
    "\n",
    "This workflow generates (part1), maintains (part2) and exports (part3)"
   ]
  },
  {
   "cell_type": "markdown",
   "metadata": {},
   "source": [
    "#### Notebook sections:\n",
    "    \n",
    "|| [0| Default imports](#ID_top) || [1|Part1 Reference table generation](#ID_part1) || [2|Part2 Table maintanence](#ID_part2) || [3|Part3 Table export](#ID_part3) || "
   ]
  },
  {
   "cell_type": "markdown",
   "metadata": {},
   "source": [
    "#### Import all packages that could be required"
   ]
  },
  {
   "cell_type": "code",
   "execution_count": 4,
   "metadata": {},
   "outputs": [],
   "source": [
    "# %load s_package_import.py\n",
    "# package library, use to ensure consistency across notebooks, refresh periodically\n",
    "# general packages\n",
    "import os # use with os.listdir(_path_)\n",
    "import requests\n",
    "import csv\n",
    "import time\n",
    "from datetime import datetime\n",
    "from shutil import copyfile\n",
    "\n",
    "#temp check\n",
    "#from shutil import make_archive\n",
    "import zipfile #notebook\n",
    "\n",
    "# data analysis packages\n",
    "import pandas as pd\n",
    "pd.options.display.max_columns = None # don't truncate columns\n",
    "#pd.options.display.max_rows = None\n",
    "\n",
    "import numpy as np\n",
    "import matplotlib.pyplot as plt\n",
    "import geopandas as gpd\n",
    "import descartes\n",
    "import pycountry\n",
    "\n",
    "# custom scripts\n",
    "import s_file_export\n",
    "import s_filepaths\n",
    "import s_un_comtrade_extract as s_un\n",
    "import s_adj_matrix_plot\n",
    "\n",
    "#=== network analysis\n",
    "import networkx as nx\n",
    "#=== gavity modelling\n",
    "import gme as gme\n",
    "\n",
    "#=== distance datasets\n",
    "import wbdata\n"
   ]
  },
  {
   "cell_type": "markdown",
   "metadata": {},
   "source": [
    "#### Import module and declare path variables\n",
    "`import s_filepaths.py`"
   ]
  },
  {
   "cell_type": "code",
   "execution_count": 5,
   "metadata": {},
   "outputs": [],
   "source": [
    "# import ref file\n",
    "import s_filepaths\n",
    "\n",
    "# declare local variables to work with\n",
    "path_raw = s_filepaths.path_raw\n",
    "path_raw_dl = s_filepaths.path_raw_dl\n",
    "path_store = s_filepaths.path_store\n",
    "path_live = s_filepaths.path_live"
   ]
  },
  {
   "cell_type": "markdown",
   "metadata": {},
   "source": [
    "<a id=\"ID_part1\"></a>\n",
    "### Part 1 | Load and Merge\n",
    "|| [0| Default imports](#ID_top) || [1|Part1](#ID_part1) || [2|Part2](#ID_part2) || [3|Part3](#ID_part3) || [4|Part4](#ID_part4) || [5|Part5](#ID_part5) ||"
   ]
  },
  {
   "cell_type": "markdown",
   "metadata": {},
   "source": [
    "**Load in belt and road initiative countries**"
   ]
  },
  {
   "cell_type": "code",
   "execution_count": 6,
   "metadata": {},
   "outputs": [
    {
     "name": "stdout",
     "output_type": "stream",
     "text": [
      "['input_101_master_country_table.csv.csv.gzip', 'input_test.csv.gzip', 'input_un_com_2013.csv.gzip', 'input_un_com_2012.csv.gzip', 'input_un_com_2006-2009.csv.gzip', '.DS_Store', 'input_101_master_country_table.csv.gzip', 'input_un_codes_ref.csv.gzip', 'input_111_di_matrix.csv.gzip', 'input_121_gme_data_joined.csv.gzip', 'input_bri_countries_manual_2020.csv.gzip', 'input_un_com_2016-2019.csv.gzip', 'input_un_com_2002-2005.csv.gzip', 'input_un_com_2014.csv.gzip', 'input_un_com_2015.csv.gzip', 'input_bri_countries_Dumor_Yao.csv.gzip', '2_raw_explainer_doc.md', 'input_dynamic_gravity.csv.gzip', 'input_un_com_2010_merged_ref.csv.gzip', 'input_111_de_matrix.csv.gzip', 'input_gme_data_joined.csv.gzip', 'input_un_sample.csv.gzip']\n"
     ]
    }
   ],
   "source": [
    "# View all files in live directory\n",
    "print(os.listdir(f\"{path_live}\"))"
   ]
  },
  {
   "cell_type": "code",
   "execution_count": 8,
   "metadata": {},
   "outputs": [
    {
     "data": {
      "text/html": [
       "<div>\n",
       "<style scoped>\n",
       "    .dataframe tbody tr th:only-of-type {\n",
       "        vertical-align: middle;\n",
       "    }\n",
       "\n",
       "    .dataframe tbody tr th {\n",
       "        vertical-align: top;\n",
       "    }\n",
       "\n",
       "    .dataframe thead th {\n",
       "        text-align: right;\n",
       "    }\n",
       "</style>\n",
       "<table border=\"1\" class=\"dataframe\">\n",
       "  <thead>\n",
       "    <tr style=\"text-align: right;\">\n",
       "      <th></th>\n",
       "      <th>year</th>\n",
       "      <th>country_o</th>\n",
       "      <th>iso3_o</th>\n",
       "      <th>country_d</th>\n",
       "      <th>iso3_d</th>\n",
       "      <th>distance</th>\n",
       "      <th>gdp_wdi_const_o</th>\n",
       "      <th>gdp_wdi_const_d</th>\n",
       "      <th>common_language</th>\n",
       "      <th>contiguity</th>\n",
       "      <th>agree_pta_goods</th>\n",
       "      <th>agree_cu</th>\n",
       "      <th>sanction_imposition</th>\n",
       "      <th>rtCode</th>\n",
       "      <th>rt3ISO</th>\n",
       "      <th>rtTitle</th>\n",
       "      <th>ptCode</th>\n",
       "      <th>pt3ISO</th>\n",
       "      <th>ptTitle</th>\n",
       "      <th>period</th>\n",
       "      <th>rgDesc</th>\n",
       "      <th>yr</th>\n",
       "      <th>rgCode</th>\n",
       "      <th>cmdCode</th>\n",
       "      <th>TradeValue</th>\n",
       "      <th>periodDesc</th>\n",
       "      <th>pfCode</th>\n",
       "      <th>cmdDescE</th>\n",
       "    </tr>\n",
       "  </thead>\n",
       "  <tbody>\n",
       "    <tr>\n",
       "      <th>0</th>\n",
       "      <td>2009</td>\n",
       "      <td>Philippines</td>\n",
       "      <td>PHL</td>\n",
       "      <td>Aruba</td>\n",
       "      <td>ABW</td>\n",
       "      <td>16904.5960</td>\n",
       "      <td>1.854377e+11</td>\n",
       "      <td>NaN</td>\n",
       "      <td>1</td>\n",
       "      <td>0</td>\n",
       "      <td>0</td>\n",
       "      <td>0</td>\n",
       "      <td>0.0</td>\n",
       "      <td>608</td>\n",
       "      <td>PHL</td>\n",
       "      <td>Philippines</td>\n",
       "      <td>533</td>\n",
       "      <td>ABW</td>\n",
       "      <td>Aruba</td>\n",
       "      <td>2009</td>\n",
       "      <td>Import</td>\n",
       "      <td>2009</td>\n",
       "      <td>1</td>\n",
       "      <td>TOTAL</td>\n",
       "      <td>72162</td>\n",
       "      <td>2009</td>\n",
       "      <td>H2</td>\n",
       "      <td>ALL COMMODITIES</td>\n",
       "    </tr>\n",
       "    <tr>\n",
       "      <th>1</th>\n",
       "      <td>2009</td>\n",
       "      <td>Philippines</td>\n",
       "      <td>PHL</td>\n",
       "      <td>Aruba</td>\n",
       "      <td>ABW</td>\n",
       "      <td>16904.5960</td>\n",
       "      <td>1.854377e+11</td>\n",
       "      <td>NaN</td>\n",
       "      <td>1</td>\n",
       "      <td>0</td>\n",
       "      <td>0</td>\n",
       "      <td>0</td>\n",
       "      <td>0.0</td>\n",
       "      <td>608</td>\n",
       "      <td>PHL</td>\n",
       "      <td>Philippines</td>\n",
       "      <td>533</td>\n",
       "      <td>ABW</td>\n",
       "      <td>Aruba</td>\n",
       "      <td>2009</td>\n",
       "      <td>Export</td>\n",
       "      <td>2009</td>\n",
       "      <td>2</td>\n",
       "      <td>TOTAL</td>\n",
       "      <td>149587</td>\n",
       "      <td>2009</td>\n",
       "      <td>H2</td>\n",
       "      <td>ALL COMMODITIES</td>\n",
       "    </tr>\n",
       "    <tr>\n",
       "      <th>2</th>\n",
       "      <td>2009</td>\n",
       "      <td>Romania</td>\n",
       "      <td>ROU</td>\n",
       "      <td>Afghanistan</td>\n",
       "      <td>AFG</td>\n",
       "      <td>1883.9504</td>\n",
       "      <td>1.693503e+11</td>\n",
       "      <td>1.469733e+10</td>\n",
       "      <td>0</td>\n",
       "      <td>0</td>\n",
       "      <td>0</td>\n",
       "      <td>0</td>\n",
       "      <td>0.0</td>\n",
       "      <td>642</td>\n",
       "      <td>ROU</td>\n",
       "      <td>Romania</td>\n",
       "      <td>4</td>\n",
       "      <td>AFG</td>\n",
       "      <td>Afghanistan</td>\n",
       "      <td>2009</td>\n",
       "      <td>Import</td>\n",
       "      <td>2009</td>\n",
       "      <td>1</td>\n",
       "      <td>TOTAL</td>\n",
       "      <td>1688</td>\n",
       "      <td>2009</td>\n",
       "      <td>H3</td>\n",
       "      <td>All Commodities</td>\n",
       "    </tr>\n",
       "    <tr>\n",
       "      <th>3</th>\n",
       "      <td>2009</td>\n",
       "      <td>Romania</td>\n",
       "      <td>ROU</td>\n",
       "      <td>Afghanistan</td>\n",
       "      <td>AFG</td>\n",
       "      <td>1883.9504</td>\n",
       "      <td>1.693503e+11</td>\n",
       "      <td>1.469733e+10</td>\n",
       "      <td>0</td>\n",
       "      <td>0</td>\n",
       "      <td>0</td>\n",
       "      <td>0</td>\n",
       "      <td>0.0</td>\n",
       "      <td>642</td>\n",
       "      <td>ROU</td>\n",
       "      <td>Romania</td>\n",
       "      <td>4</td>\n",
       "      <td>AFG</td>\n",
       "      <td>Afghanistan</td>\n",
       "      <td>2009</td>\n",
       "      <td>Export</td>\n",
       "      <td>2009</td>\n",
       "      <td>2</td>\n",
       "      <td>TOTAL</td>\n",
       "      <td>15843818</td>\n",
       "      <td>2009</td>\n",
       "      <td>H3</td>\n",
       "      <td>All Commodities</td>\n",
       "    </tr>\n",
       "    <tr>\n",
       "      <th>4</th>\n",
       "      <td>2010</td>\n",
       "      <td>Denmark</td>\n",
       "      <td>DNK</td>\n",
       "      <td>Afghanistan</td>\n",
       "      <td>AFG</td>\n",
       "      <td>4835.0132</td>\n",
       "      <td>3.219939e+11</td>\n",
       "      <td>1.593680e+10</td>\n",
       "      <td>0</td>\n",
       "      <td>0</td>\n",
       "      <td>0</td>\n",
       "      <td>0</td>\n",
       "      <td>0.0</td>\n",
       "      <td>208</td>\n",
       "      <td>DNK</td>\n",
       "      <td>Denmark</td>\n",
       "      <td>4</td>\n",
       "      <td>AFG</td>\n",
       "      <td>Afghanistan</td>\n",
       "      <td>2010</td>\n",
       "      <td>Import</td>\n",
       "      <td>2010</td>\n",
       "      <td>1</td>\n",
       "      <td>TOTAL</td>\n",
       "      <td>5267969</td>\n",
       "      <td>2010</td>\n",
       "      <td>H3</td>\n",
       "      <td>All Commodities</td>\n",
       "    </tr>\n",
       "  </tbody>\n",
       "</table>\n",
       "</div>"
      ],
      "text/plain": [
       "   year    country_o iso3_o    country_d iso3_d    distance  gdp_wdi_const_o  \\\n",
       "0  2009  Philippines    PHL        Aruba    ABW  16904.5960     1.854377e+11   \n",
       "1  2009  Philippines    PHL        Aruba    ABW  16904.5960     1.854377e+11   \n",
       "2  2009      Romania    ROU  Afghanistan    AFG   1883.9504     1.693503e+11   \n",
       "3  2009      Romania    ROU  Afghanistan    AFG   1883.9504     1.693503e+11   \n",
       "4  2010      Denmark    DNK  Afghanistan    AFG   4835.0132     3.219939e+11   \n",
       "\n",
       "   gdp_wdi_const_d  common_language  contiguity  agree_pta_goods  agree_cu  \\\n",
       "0              NaN                1           0                0         0   \n",
       "1              NaN                1           0                0         0   \n",
       "2     1.469733e+10                0           0                0         0   \n",
       "3     1.469733e+10                0           0                0         0   \n",
       "4     1.593680e+10                0           0                0         0   \n",
       "\n",
       "   sanction_imposition  rtCode rt3ISO      rtTitle  ptCode pt3ISO  \\\n",
       "0                  0.0     608    PHL  Philippines     533    ABW   \n",
       "1                  0.0     608    PHL  Philippines     533    ABW   \n",
       "2                  0.0     642    ROU      Romania       4    AFG   \n",
       "3                  0.0     642    ROU      Romania       4    AFG   \n",
       "4                  0.0     208    DNK      Denmark       4    AFG   \n",
       "\n",
       "       ptTitle  period  rgDesc    yr  rgCode cmdCode  TradeValue  periodDesc  \\\n",
       "0        Aruba    2009  Import  2009       1   TOTAL       72162        2009   \n",
       "1        Aruba    2009  Export  2009       2   TOTAL      149587        2009   \n",
       "2  Afghanistan    2009  Import  2009       1   TOTAL        1688        2009   \n",
       "3  Afghanistan    2009  Export  2009       2   TOTAL    15843818        2009   \n",
       "4  Afghanistan    2010  Import  2010       1   TOTAL     5267969        2010   \n",
       "\n",
       "  pfCode         cmdDescE  \n",
       "0     H2  ALL COMMODITIES  \n",
       "1     H2  ALL COMMODITIES  \n",
       "2     H3  All Commodities  \n",
       "3     H3  All Commodities  \n",
       "4     H3  All Commodities  "
      ]
     },
     "execution_count": 8,
     "metadata": {},
     "output_type": "execute_result"
    }
   ],
   "source": [
    "# import gme data (121)\n",
    "df_grav_flow = pd.read_csv(f\"{path_live}/input_121_gme_data_joined.csv.gzip\",compression=\"gzip\")\n",
    "df_grav_flow.head()"
   ]
  },
  {
   "cell_type": "code",
   "execution_count": 14,
   "metadata": {},
   "outputs": [],
   "source": [
    "# import distance measures\n",
    "df_de = pd.read_csv(f\"{path_live}/input_111_de_matrix.csv.gzip\",compression=\"gzip\",index_col=\"index\")\n",
    "df_di = pd.read_csv(f\"{path_live}/input_111_di_matrix.csv.gzip\",compression=\"gzip\",index_col=\"index\")"
   ]
  },
  {
   "cell_type": "code",
   "execution_count": 30,
   "metadata": {},
   "outputs": [],
   "source": [
    "# create series based on combo of iso3_o and iso3_d\n",
    "paired_values = []\n",
    "\n",
    "for entry in list(df_grav_flow.index):\n",
    "    # pair of countries in gravity dataset\n",
    "    df_pair = (df_grav_flow.iloc[entry].iso3_o, df_grav_flow.iloc[entry].iso3_d)\n",
    "\n",
    "    try: \n",
    "        distance_value = df_de.loc[df_pair[0],df_pair[1]]\n",
    "        paired_values.append(distance_value)\n",
    "    except:\n",
    "        paired_values.append(np.NaN)\n",
    "        \n",
    "df_grav_flow[\"economic_distance\"] = paired_values"
   ]
  },
  {
   "cell_type": "code",
   "execution_count": 36,
   "metadata": {},
   "outputs": [],
   "source": [
    "# create series based on combo of iso3_o and iso3_d\n",
    "paired_values = []\n",
    "\n",
    "for entry in list(df_grav_flow.index):\n",
    "    # pair of countries in gravity dataset\n",
    "    df_pair = (df_grav_flow.iloc[entry].iso3_o, df_grav_flow.iloc[entry].iso3_d)\n",
    "\n",
    "    try: \n",
    "        distance_value = df_di.loc[df_pair[0],df_pair[1]]\n",
    "        paired_values.append(distance_value)\n",
    "    except:\n",
    "        paired_values.append(np.NaN)\n",
    "        \n",
    "df_grav_flow[\"institutional_distance\"] = paired_values"
   ]
  },
  {
   "cell_type": "markdown",
   "metadata": {},
   "source": [
    "<a id=\"ID_part2\"></a>\n",
    "### Part 2 | Export\n",
    "|| [0| Default imports](#ID_top) || [1|Part1](#ID_part1) || [2|Part2](#ID_part2) || [3|Part3](#ID_part3) || [4|Part4](#ID_part4) || [5|Part5](#ID_part5) ||"
   ]
  },
  {
   "cell_type": "code",
   "execution_count": 37,
   "metadata": {},
   "outputs": [
    {
     "name": "stdout",
     "output_type": "stream",
     "text": [
      "Export | ../Data/1_raw_processed_backup/store_131_gme_flow_distance_20200808_1722.csv | COMPLETE\n",
      "COPY   | ../Data/2_raw_processed_input/input_131_gme_flow_distance.csv.gzip | COMPLETE\n"
     ]
    }
   ],
   "source": [
    "# Economic distance matrix\n",
    "file_name = f\"{notebook_id}_gme_flow_distance\"\n",
    "s_file_export.f_df_export(df_grav_flow,file_name)"
   ]
  },
  {
   "cell_type": "markdown",
   "metadata": {},
   "source": [
    "***"
   ]
  },
  {
   "cell_type": "markdown",
   "metadata": {},
   "source": [
    "<a id=\"ID_part3\"></a>\n",
    "### Part 3\n",
    "|| [0| Default imports](#ID_top) || [1|Part1](#ID_part1) || [2|Part2](#ID_part2) || [3|Part3](#ID_part3) || [4|Part4](#ID_part4) || [5|Part5](#ID_part5) ||"
   ]
  },
  {
   "cell_type": "code",
   "execution_count": null,
   "metadata": {},
   "outputs": [],
   "source": []
  },
  {
   "cell_type": "markdown",
   "metadata": {},
   "source": [
    "<a id=\"ID_part4\"></a>\n",
    "### Part 4\n",
    "|| [0| Default imports](#ID_top) || [1|Part1](#ID_part1) || [2|Part2](#ID_part2) || [3|Part3](#ID_part3) || [4|Part4](#ID_part4) || [5|Part5](#ID_part5) ||"
   ]
  },
  {
   "cell_type": "code",
   "execution_count": null,
   "metadata": {},
   "outputs": [],
   "source": []
  },
  {
   "cell_type": "markdown",
   "metadata": {},
   "source": [
    "<a id=\"ID_part5\"></a>\n",
    "### Part 5\n",
    "|| [0| Default imports](#ID_top) || [1|Part1](#ID_part1) || [2|Part2](#ID_part2) || [3|Part3](#ID_part3) || [4|Part4](#ID_part4) || [5|Part5](#ID_part5) ||"
   ]
  }
 ],
 "metadata": {
  "kernelspec": {
   "display_name": "Python 3",
   "language": "python",
   "name": "python3"
  },
  "language_info": {
   "codemirror_mode": {
    "name": "ipython",
    "version": 3
   },
   "file_extension": ".py",
   "mimetype": "text/x-python",
   "name": "python",
   "nbconvert_exporter": "python",
   "pygments_lexer": "ipython3",
   "version": "3.7.4"
  }
 },
 "nbformat": 4,
 "nbformat_minor": 2
}
