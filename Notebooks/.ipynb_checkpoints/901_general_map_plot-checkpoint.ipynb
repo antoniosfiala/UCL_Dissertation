{
 "cells": [
  {
   "cell_type": "code",
   "execution_count": 1,
   "metadata": {},
   "outputs": [],
   "source": [
    "notebook_id = 901"
   ]
  },
  {
   "cell_type": "markdown",
   "metadata": {},
   "source": [
    "<a id=\"ID_top\"></a>\n",
    "## Map generator | BRI map\n",
    "\n",
    "Raw data source [here](https://www.naturalearthdata.com/downloads/50m-cultural-vectors/)\n",
    "Code inspiration [here](https://towardsdatascience.com/a-complete-guide-to-an-interactive-geographical-map-using-python-f4c5197e23e0)\n",
    "Nice diagram for panda merge [here](https://medium.com/swlh/merging-dataframes-with-pandas-pd-merge-7764c7e2d46d), example code [here](http://www.datasciencemadesimple.com/join-merge-data-frames-pandas-python/)\n",
    "\n",
    "Useful guide on categorical mapping with geopands [here](https://dmnfarrell.github.io/plotting/categorical-geopandas-maps)\n",
    "\n",
    "\n",
    "Using geopandas and natural earth shape file to plot a world map with countries highlighted based on 3 digit iso code."
   ]
  },
  {
   "cell_type": "code",
   "execution_count": null,
   "metadata": {},
   "outputs": [],
   "source": [
    "#![Image of Joins](https://miro.medium.com/max/1400/1*9eH1_7VbTZPZd9jBiGIyNA.png)"
   ]
  },
  {
   "cell_type": "markdown",
   "metadata": {},
   "source": [
    "#### Notebook sections:\n",
    "    \n",
    "|| [0| Default imports](#ID_top) || [1|Part1](#ID_part1) || [2|Part2](#ID_part2) || [3|Part3](#ID_part3) || [4|Part4](#ID_part4) || [5|Part5](#ID_part5) ||"
   ]
  },
  {
   "cell_type": "markdown",
   "metadata": {},
   "source": [
    "#### Import all packages that could be required"
   ]
  },
  {
   "cell_type": "code",
   "execution_count": 2,
   "metadata": {},
   "outputs": [
    {
     "name": "stderr",
     "output_type": "stream",
     "text": [
      "/Users/antonios/opt/anaconda3/lib/python3.7/site-packages/statsmodels/tools/_testing.py:19: FutureWarning: pandas.util.testing is deprecated. Use the functions in the public API at pandas.testing instead.\n",
      "  import pandas.util.testing as tm\n"
     ]
    }
   ],
   "source": [
    "# %load s_package_import.py\n",
    "# package library, use to ensure consistency across notebooks, refresh periodically\n",
    "# general packages\n",
    "import os # use with os.listdir(_path_)\n",
    "import requests\n",
    "import csv\n",
    "import time\n",
    "from datetime import datetime\n",
    "from shutil import copyfile\n",
    "\n",
    "#temp check\n",
    "#from shutil import make_archive\n",
    "#import zipfile\n",
    "\n",
    "# data analysis packages\n",
    "import pandas as pd\n",
    "pd.options.display.max_columns = None # don't truncate columns\n",
    "#pd.options.display.max_rows = None\n",
    "\n",
    "import numpy as np\n",
    "import matplotlib.pyplot as plt\n",
    "import geopandas as gpd\n",
    "import descartes\n",
    "\n",
    "# custom scripts\n",
    "import s_file_export\n",
    "import s_filepaths\n",
    "import s_un_comtrade_extract as s_un\n",
    "import s_adj_matrix_plot\n",
    "\n",
    "#=== network analysis\n",
    "import networkx as nx\n",
    "#=== gavity modelling\n",
    "import gme as gme\n"
   ]
  },
  {
   "cell_type": "markdown",
   "metadata": {},
   "source": [
    "#### Import module and declare path variables\n",
    "`import s_filepaths.py`"
   ]
  },
  {
   "cell_type": "code",
   "execution_count": 3,
   "metadata": {},
   "outputs": [],
   "source": [
    "# import ref file\n",
    "import s_filepaths\n",
    "\n",
    "# declare local variables to work with\n",
    "path_raw = s_filepaths.path_raw\n",
    "path_raw_dl = s_filepaths.path_raw_dl\n",
    "path_store = s_filepaths.path_store\n",
    "path_live = s_filepaths.path_live\n",
    "path_map = s_filepaths.path_map\n",
    "path_image = s_filepaths.path_images"
   ]
  },
  {
   "cell_type": "markdown",
   "metadata": {},
   "source": [
    "<a id=\"ID_part1\"></a>\n",
    "### Part 1 | Import map data\n",
    "|| [0| Default imports](#ID_top) || [1|Part1 Import data](#ID_part1) || [2|Part2 Load BRI data](#ID_part2) || [3|Part3 Merge, prep, visualise](#ID_part3) || "
   ]
  },
  {
   "cell_type": "code",
   "execution_count": 4,
   "metadata": {},
   "outputs": [
    {
     "data": {
      "text/plain": [
       "['ne_50m_admin_0_countries.VERSION.txt',\n",
       " 'ne_50m_admin_0_countries.prj',\n",
       " 'ne_50m_admin_0_countries.README.html',\n",
       " 'ne_50m_admin_0_countries.dbf',\n",
       " 'ne_50m_admin_0_countries.shp',\n",
       " 'ne_50m_admin_0_countries.cpg',\n",
       " 'ne_50m_admin_0_countries.shx']"
      ]
     },
     "execution_count": 4,
     "metadata": {},
     "output_type": "execute_result"
    }
   ],
   "source": [
    "os.listdir(f\"{path_map}ne_50m_admin_0_countries\")"
   ]
  },
  {
   "cell_type": "code",
   "execution_count": 5,
   "metadata": {},
   "outputs": [],
   "source": [
    "# file path\n",
    "base_shape_file = f\"{path_map}ne_50m_admin_0_countries/ne_50m_admin_0_countries.shp\"\n",
    "\n",
    "# geopandas dataframe\n",
    "gdf_map = gpd.read_file(base_shape_file)[[\"ADM0_A3\",\"ADMIN\",\"geometry\"]]\n",
    "gdf_map.columns = [\"iso_3\",\"country_name\",\"geometry\"]"
   ]
  },
  {
   "cell_type": "code",
   "execution_count": 6,
   "metadata": {},
   "outputs": [
    {
     "data": {
      "text/html": [
       "<div>\n",
       "<style scoped>\n",
       "    .dataframe tbody tr th:only-of-type {\n",
       "        vertical-align: middle;\n",
       "    }\n",
       "\n",
       "    .dataframe tbody tr th {\n",
       "        vertical-align: top;\n",
       "    }\n",
       "\n",
       "    .dataframe thead th {\n",
       "        text-align: right;\n",
       "    }\n",
       "</style>\n",
       "<table border=\"1\" class=\"dataframe\">\n",
       "  <thead>\n",
       "    <tr style=\"text-align: right;\">\n",
       "      <th></th>\n",
       "      <th>iso_3</th>\n",
       "      <th>country_name</th>\n",
       "      <th>geometry</th>\n",
       "    </tr>\n",
       "  </thead>\n",
       "  <tbody>\n",
       "    <tr>\n",
       "      <th>0</th>\n",
       "      <td>ZWE</td>\n",
       "      <td>Zimbabwe</td>\n",
       "      <td>POLYGON ((31.28789 -22.40205, 31.19727 -22.344...</td>\n",
       "    </tr>\n",
       "    <tr>\n",
       "      <th>1</th>\n",
       "      <td>ZMB</td>\n",
       "      <td>Zambia</td>\n",
       "      <td>POLYGON ((30.39609 -15.64307, 30.25068 -15.643...</td>\n",
       "    </tr>\n",
       "    <tr>\n",
       "      <th>2</th>\n",
       "      <td>YEM</td>\n",
       "      <td>Yemen</td>\n",
       "      <td>MULTIPOLYGON (((53.08564 16.64839, 52.58145 16...</td>\n",
       "    </tr>\n",
       "    <tr>\n",
       "      <th>3</th>\n",
       "      <td>VNM</td>\n",
       "      <td>Vietnam</td>\n",
       "      <td>MULTIPOLYGON (((104.06396 10.39082, 104.08301 ...</td>\n",
       "    </tr>\n",
       "    <tr>\n",
       "      <th>4</th>\n",
       "      <td>VEN</td>\n",
       "      <td>Venezuela</td>\n",
       "      <td>MULTIPOLYGON (((-60.82119 9.13838, -60.94141 9...</td>\n",
       "    </tr>\n",
       "  </tbody>\n",
       "</table>\n",
       "</div>"
      ],
      "text/plain": [
       "  iso_3 country_name                                           geometry\n",
       "0   ZWE     Zimbabwe  POLYGON ((31.28789 -22.40205, 31.19727 -22.344...\n",
       "1   ZMB       Zambia  POLYGON ((30.39609 -15.64307, 30.25068 -15.643...\n",
       "2   YEM        Yemen  MULTIPOLYGON (((53.08564 16.64839, 52.58145 16...\n",
       "3   VNM      Vietnam  MULTIPOLYGON (((104.06396 10.39082, 104.08301 ...\n",
       "4   VEN    Venezuela  MULTIPOLYGON (((-60.82119 9.13838, -60.94141 9..."
      ]
     },
     "execution_count": 6,
     "metadata": {},
     "output_type": "execute_result"
    }
   ],
   "source": [
    "gdf_map.head()"
   ]
  },
  {
   "cell_type": "markdown",
   "metadata": {},
   "source": [
    "<a id=\"ID_part2\"></a>\n",
    "### Part 2 | Desired iso3 list\n",
    "|| [0| Default imports](#ID_top) || [1|Part1 Import data](#ID_part1) || [2|Part2 Load BRI data](#ID_part2) || [3|Part3 Merge, prep, visualise](#ID_part3) || "
   ]
  },
  {
   "cell_type": "code",
   "execution_count": 7,
   "metadata": {},
   "outputs": [
    {
     "name": "stdout",
     "output_type": "stream",
     "text": [
      "['121_input_di_matrix.csv.gzip', '.DS_Store', '112_input_gme_data.csv.gzip', '125_input_scope_country.csv.gzip', '120_input_scope_data.csv.gzip', '2_raw_explainer_doc.md', '121_input_de_matrix.csv.gzip', '113_input_bri_members.csv.gzip']\n"
     ]
    }
   ],
   "source": [
    "print(os.listdir(f\"{path_live}\"))"
   ]
  },
  {
   "cell_type": "code",
   "execution_count": 8,
   "metadata": {},
   "outputs": [],
   "source": [
    "df_data_in = pd.read_csv(f\"{path_live}125_input_scope_country.csv.gzip\",compression = \"gzip\")"
   ]
  },
  {
   "cell_type": "code",
   "execution_count": 12,
   "metadata": {},
   "outputs": [
    {
     "data": {
      "text/html": [
       "<div>\n",
       "<style scoped>\n",
       "    .dataframe tbody tr th:only-of-type {\n",
       "        vertical-align: middle;\n",
       "    }\n",
       "\n",
       "    .dataframe tbody tr th {\n",
       "        vertical-align: top;\n",
       "    }\n",
       "\n",
       "    .dataframe thead th {\n",
       "        text-align: right;\n",
       "    }\n",
       "</style>\n",
       "<table border=\"1\" class=\"dataframe\">\n",
       "  <thead>\n",
       "    <tr style=\"text-align: right;\">\n",
       "      <th></th>\n",
       "      <th>year</th>\n",
       "      <th>country_d</th>\n",
       "      <th>iso3_d</th>\n",
       "      <th>dynamic_code_d</th>\n",
       "      <th>landlocked_d</th>\n",
       "      <th>island_d</th>\n",
       "      <th>region_d</th>\n",
       "      <th>gdp_pwt_const_d</th>\n",
       "      <th>pop_d</th>\n",
       "      <th>lat_d</th>\n",
       "      <th>lng_d</th>\n",
       "      <th>country_o</th>\n",
       "      <th>iso3_o</th>\n",
       "      <th>dynamic_code_o</th>\n",
       "      <th>landlocked_o</th>\n",
       "      <th>island_o</th>\n",
       "      <th>region_o</th>\n",
       "      <th>pop_o</th>\n",
       "      <th>lat_o</th>\n",
       "      <th>lng_o</th>\n",
       "      <th>contiguity</th>\n",
       "      <th>distance</th>\n",
       "      <th>bri_year_d</th>\n",
       "      <th>bri_flag_d</th>\n",
       "      <th>economic_distance</th>\n",
       "      <th>institutional_distance</th>\n",
       "    </tr>\n",
       "  </thead>\n",
       "  <tbody>\n",
       "    <tr>\n",
       "      <th>0</th>\n",
       "      <td>2016</td>\n",
       "      <td>United Arab Emirates</td>\n",
       "      <td>ARE</td>\n",
       "      <td>ARE</td>\n",
       "      <td>0</td>\n",
       "      <td>0</td>\n",
       "      <td>middle_east</td>\n",
       "      <td>NaN</td>\n",
       "      <td>NaN</td>\n",
       "      <td>25.094378</td>\n",
       "      <td>55.454674</td>\n",
       "      <td>Portugal</td>\n",
       "      <td>PRT</td>\n",
       "      <td>PRT</td>\n",
       "      <td>0</td>\n",
       "      <td>0</td>\n",
       "      <td>europe</td>\n",
       "      <td>NaN</td>\n",
       "      <td>39.310741</td>\n",
       "      <td>-10.883486</td>\n",
       "      <td>0</td>\n",
       "      <td>6154.4214</td>\n",
       "      <td>2017.0</td>\n",
       "      <td>1.0</td>\n",
       "      <td>1.047448e+09</td>\n",
       "      <td>0.028180</td>\n",
       "    </tr>\n",
       "    <tr>\n",
       "      <th>1</th>\n",
       "      <td>2016</td>\n",
       "      <td>Azerbaijan</td>\n",
       "      <td>AZE</td>\n",
       "      <td>AZE</td>\n",
       "      <td>0</td>\n",
       "      <td>0</td>\n",
       "      <td>europe</td>\n",
       "      <td>NaN</td>\n",
       "      <td>NaN</td>\n",
       "      <td>40.362438</td>\n",
       "      <td>47.255833</td>\n",
       "      <td>Kuwait</td>\n",
       "      <td>KWT</td>\n",
       "      <td>KWT</td>\n",
       "      <td>0</td>\n",
       "      <td>0</td>\n",
       "      <td>middle_east</td>\n",
       "      <td>NaN</td>\n",
       "      <td>29.279369</td>\n",
       "      <td>47.930035</td>\n",
       "      <td>0</td>\n",
       "      <td>1236.6086</td>\n",
       "      <td>2015.0</td>\n",
       "      <td>1.0</td>\n",
       "      <td>9.189585e+08</td>\n",
       "      <td>0.151204</td>\n",
       "    </tr>\n",
       "    <tr>\n",
       "      <th>2</th>\n",
       "      <td>2016</td>\n",
       "      <td>Belgium</td>\n",
       "      <td>BEL</td>\n",
       "      <td>BEL</td>\n",
       "      <td>0</td>\n",
       "      <td>0</td>\n",
       "      <td>europe</td>\n",
       "      <td>NaN</td>\n",
       "      <td>NaN</td>\n",
       "      <td>50.691814</td>\n",
       "      <td>4.581812</td>\n",
       "      <td>Cambodia</td>\n",
       "      <td>KHM</td>\n",
       "      <td>KHM</td>\n",
       "      <td>0</td>\n",
       "      <td>0</td>\n",
       "      <td>south_east_asia</td>\n",
       "      <td>NaN</td>\n",
       "      <td>12.320902</td>\n",
       "      <td>104.874400</td>\n",
       "      <td>0</td>\n",
       "      <td>9693.0625</td>\n",
       "      <td>NaN</td>\n",
       "      <td>NaN</td>\n",
       "      <td>2.019057e+09</td>\n",
       "      <td>3.941229</td>\n",
       "    </tr>\n",
       "    <tr>\n",
       "      <th>3</th>\n",
       "      <td>2016</td>\n",
       "      <td>China</td>\n",
       "      <td>CHN</td>\n",
       "      <td>CHN</td>\n",
       "      <td>0</td>\n",
       "      <td>0</td>\n",
       "      <td>east_asia</td>\n",
       "      <td>NaN</td>\n",
       "      <td>NaN</td>\n",
       "      <td>35.389668</td>\n",
       "      <td>114.002470</td>\n",
       "      <td>Belarus</td>\n",
       "      <td>BLR</td>\n",
       "      <td>BLR</td>\n",
       "      <td>1</td>\n",
       "      <td>0</td>\n",
       "      <td>europe</td>\n",
       "      <td>NaN</td>\n",
       "      <td>53.604687</td>\n",
       "      <td>27.802185</td>\n",
       "      <td>0</td>\n",
       "      <td>6904.3364</td>\n",
       "      <td>2013.0</td>\n",
       "      <td>1.0</td>\n",
       "      <td>1.724850e+07</td>\n",
       "      <td>0.000004</td>\n",
       "    </tr>\n",
       "    <tr>\n",
       "      <th>4</th>\n",
       "      <td>2016</td>\n",
       "      <td>Spain</td>\n",
       "      <td>ESP</td>\n",
       "      <td>ESP</td>\n",
       "      <td>0</td>\n",
       "      <td>0</td>\n",
       "      <td>europe</td>\n",
       "      <td>NaN</td>\n",
       "      <td>NaN</td>\n",
       "      <td>39.231297</td>\n",
       "      <td>-4.263840</td>\n",
       "      <td>Belgium</td>\n",
       "      <td>BEL</td>\n",
       "      <td>BEL</td>\n",
       "      <td>0</td>\n",
       "      <td>0</td>\n",
       "      <td>europe</td>\n",
       "      <td>NaN</td>\n",
       "      <td>50.691814</td>\n",
       "      <td>4.581812</td>\n",
       "      <td>0</td>\n",
       "      <td>1374.9351</td>\n",
       "      <td>NaN</td>\n",
       "      <td>NaN</td>\n",
       "      <td>1.282899e+08</td>\n",
       "      <td>0.586379</td>\n",
       "    </tr>\n",
       "  </tbody>\n",
       "</table>\n",
       "</div>"
      ],
      "text/plain": [
       "   year             country_d iso3_d dynamic_code_d  landlocked_d  island_d  \\\n",
       "0  2016  United Arab Emirates    ARE            ARE             0         0   \n",
       "1  2016            Azerbaijan    AZE            AZE             0         0   \n",
       "2  2016               Belgium    BEL            BEL             0         0   \n",
       "3  2016                 China    CHN            CHN             0         0   \n",
       "4  2016                 Spain    ESP            ESP             0         0   \n",
       "\n",
       "      region_d  gdp_pwt_const_d  pop_d      lat_d       lng_d country_o  \\\n",
       "0  middle_east              NaN    NaN  25.094378   55.454674  Portugal   \n",
       "1       europe              NaN    NaN  40.362438   47.255833    Kuwait   \n",
       "2       europe              NaN    NaN  50.691814    4.581812  Cambodia   \n",
       "3    east_asia              NaN    NaN  35.389668  114.002470   Belarus   \n",
       "4       europe              NaN    NaN  39.231297   -4.263840   Belgium   \n",
       "\n",
       "  iso3_o dynamic_code_o  landlocked_o  island_o         region_o  pop_o  \\\n",
       "0    PRT            PRT             0         0           europe    NaN   \n",
       "1    KWT            KWT             0         0      middle_east    NaN   \n",
       "2    KHM            KHM             0         0  south_east_asia    NaN   \n",
       "3    BLR            BLR             1         0           europe    NaN   \n",
       "4    BEL            BEL             0         0           europe    NaN   \n",
       "\n",
       "       lat_o       lng_o  contiguity   distance  bri_year_d  bri_flag_d  \\\n",
       "0  39.310741  -10.883486           0  6154.4214      2017.0         1.0   \n",
       "1  29.279369   47.930035           0  1236.6086      2015.0         1.0   \n",
       "2  12.320902  104.874400           0  9693.0625         NaN         NaN   \n",
       "3  53.604687   27.802185           0  6904.3364      2013.0         1.0   \n",
       "4  50.691814    4.581812           0  1374.9351         NaN         NaN   \n",
       "\n",
       "   economic_distance  institutional_distance  \n",
       "0       1.047448e+09                0.028180  \n",
       "1       9.189585e+08                0.151204  \n",
       "2       2.019057e+09                3.941229  \n",
       "3       1.724850e+07                0.000004  \n",
       "4       1.282899e+08                0.586379  "
      ]
     },
     "execution_count": 12,
     "metadata": {},
     "output_type": "execute_result"
    }
   ],
   "source": [
    "df_data_in.head()"
   ]
  },
  {
   "cell_type": "code",
   "execution_count": 20,
   "metadata": {},
   "outputs": [],
   "source": [
    "df_plot = df_data_in.loc[:,[\"year\",\"iso3_d\"]].copy()\n",
    "df_plot = df_plot.drop_duplicates().copy()\n",
    "df_plot.columns = [\"year\",\"iso_3\"]\n",
    "df_plot[\"Plot\"] = 1\n",
    "df_plot[\"Label\"] = \"Country in scope\""
   ]
  },
  {
   "cell_type": "code",
   "execution_count": 21,
   "metadata": {},
   "outputs": [
    {
     "data": {
      "text/html": [
       "<div>\n",
       "<style scoped>\n",
       "    .dataframe tbody tr th:only-of-type {\n",
       "        vertical-align: middle;\n",
       "    }\n",
       "\n",
       "    .dataframe tbody tr th {\n",
       "        vertical-align: top;\n",
       "    }\n",
       "\n",
       "    .dataframe thead th {\n",
       "        text-align: right;\n",
       "    }\n",
       "</style>\n",
       "<table border=\"1\" class=\"dataframe\">\n",
       "  <thead>\n",
       "    <tr style=\"text-align: right;\">\n",
       "      <th></th>\n",
       "      <th>year</th>\n",
       "      <th>iso_3</th>\n",
       "      <th>Plot</th>\n",
       "      <th>Label</th>\n",
       "    </tr>\n",
       "  </thead>\n",
       "  <tbody>\n",
       "    <tr>\n",
       "      <th>0</th>\n",
       "      <td>2016</td>\n",
       "      <td>ARE</td>\n",
       "      <td>1</td>\n",
       "      <td>Country in scope</td>\n",
       "    </tr>\n",
       "    <tr>\n",
       "      <th>1</th>\n",
       "      <td>2016</td>\n",
       "      <td>AZE</td>\n",
       "      <td>1</td>\n",
       "      <td>Country in scope</td>\n",
       "    </tr>\n",
       "    <tr>\n",
       "      <th>2</th>\n",
       "      <td>2016</td>\n",
       "      <td>BEL</td>\n",
       "      <td>1</td>\n",
       "      <td>Country in scope</td>\n",
       "    </tr>\n",
       "    <tr>\n",
       "      <th>3</th>\n",
       "      <td>2016</td>\n",
       "      <td>CHN</td>\n",
       "      <td>1</td>\n",
       "      <td>Country in scope</td>\n",
       "    </tr>\n",
       "    <tr>\n",
       "      <th>4</th>\n",
       "      <td>2016</td>\n",
       "      <td>ESP</td>\n",
       "      <td>1</td>\n",
       "      <td>Country in scope</td>\n",
       "    </tr>\n",
       "  </tbody>\n",
       "</table>\n",
       "</div>"
      ],
      "text/plain": [
       "   year iso_3  Plot             Label\n",
       "0  2016   ARE     1  Country in scope\n",
       "1  2016   AZE     1  Country in scope\n",
       "2  2016   BEL     1  Country in scope\n",
       "3  2016   CHN     1  Country in scope\n",
       "4  2016   ESP     1  Country in scope"
      ]
     },
     "execution_count": 21,
     "metadata": {},
     "output_type": "execute_result"
    }
   ],
   "source": [
    "df_plot.head()"
   ]
  },
  {
   "cell_type": "markdown",
   "metadata": {},
   "source": [
    "<a id=\"ID_part3\"></a>\n",
    "### Part 3 | Merge and prep data\n",
    "|| [0| Default imports](#ID_top) || [1|Part1 Import data](#ID_part1) || [2|Part2 Load BRI data](#ID_part2) || [3|Part3 Merge, prep, visualise](#ID_part3) || "
   ]
  },
  {
   "cell_type": "code",
   "execution_count": 26,
   "metadata": {},
   "outputs": [
    {
     "name": "stdout",
     "output_type": "stream",
     "text": [
      "(241, 6)\n"
     ]
    }
   ],
   "source": [
    "gdf_map_merged = gdf_map.merge(df_plot, on = \"iso_3\",how = \"left\",copy = False)\n",
    "print(gdf_map_merged.shape)"
   ]
  },
  {
   "cell_type": "code",
   "execution_count": 27,
   "metadata": {},
   "outputs": [
    {
     "data": {
      "text/html": [
       "<div>\n",
       "<style scoped>\n",
       "    .dataframe tbody tr th:only-of-type {\n",
       "        vertical-align: middle;\n",
       "    }\n",
       "\n",
       "    .dataframe tbody tr th {\n",
       "        vertical-align: top;\n",
       "    }\n",
       "\n",
       "    .dataframe thead th {\n",
       "        text-align: right;\n",
       "    }\n",
       "</style>\n",
       "<table border=\"1\" class=\"dataframe\">\n",
       "  <thead>\n",
       "    <tr style=\"text-align: right;\">\n",
       "      <th></th>\n",
       "      <th>iso_3</th>\n",
       "      <th>country_name</th>\n",
       "      <th>geometry</th>\n",
       "      <th>year</th>\n",
       "      <th>Plot</th>\n",
       "      <th>Label</th>\n",
       "      <th>colour</th>\n",
       "    </tr>\n",
       "  </thead>\n",
       "  <tbody>\n",
       "    <tr>\n",
       "      <th>0</th>\n",
       "      <td>ZWE</td>\n",
       "      <td>Zimbabwe</td>\n",
       "      <td>POLYGON ((31.28789 -22.40205, 31.19727 -22.344...</td>\n",
       "      <td>NaN</td>\n",
       "      <td>NaN</td>\n",
       "      <td>NaN</td>\n",
       "      <td>white</td>\n",
       "    </tr>\n",
       "    <tr>\n",
       "      <th>1</th>\n",
       "      <td>ZMB</td>\n",
       "      <td>Zambia</td>\n",
       "      <td>POLYGON ((30.39609 -15.64307, 30.25068 -15.643...</td>\n",
       "      <td>NaN</td>\n",
       "      <td>NaN</td>\n",
       "      <td>NaN</td>\n",
       "      <td>white</td>\n",
       "    </tr>\n",
       "    <tr>\n",
       "      <th>2</th>\n",
       "      <td>YEM</td>\n",
       "      <td>Yemen</td>\n",
       "      <td>MULTIPOLYGON (((53.08564 16.64839, 52.58145 16...</td>\n",
       "      <td>NaN</td>\n",
       "      <td>NaN</td>\n",
       "      <td>NaN</td>\n",
       "      <td>white</td>\n",
       "    </tr>\n",
       "    <tr>\n",
       "      <th>3</th>\n",
       "      <td>VNM</td>\n",
       "      <td>Vietnam</td>\n",
       "      <td>MULTIPOLYGON (((104.06396 10.39082, 104.08301 ...</td>\n",
       "      <td>2016.0</td>\n",
       "      <td>1.0</td>\n",
       "      <td>Country in scope</td>\n",
       "      <td>#aa381e</td>\n",
       "    </tr>\n",
       "    <tr>\n",
       "      <th>4</th>\n",
       "      <td>VEN</td>\n",
       "      <td>Venezuela</td>\n",
       "      <td>MULTIPOLYGON (((-60.82119 9.13838, -60.94141 9...</td>\n",
       "      <td>NaN</td>\n",
       "      <td>NaN</td>\n",
       "      <td>NaN</td>\n",
       "      <td>white</td>\n",
       "    </tr>\n",
       "  </tbody>\n",
       "</table>\n",
       "</div>"
      ],
      "text/plain": [
       "  iso_3 country_name                                           geometry  \\\n",
       "0   ZWE     Zimbabwe  POLYGON ((31.28789 -22.40205, 31.19727 -22.344...   \n",
       "1   ZMB       Zambia  POLYGON ((30.39609 -15.64307, 30.25068 -15.643...   \n",
       "2   YEM        Yemen  MULTIPOLYGON (((53.08564 16.64839, 52.58145 16...   \n",
       "3   VNM      Vietnam  MULTIPOLYGON (((104.06396 10.39082, 104.08301 ...   \n",
       "4   VEN    Venezuela  MULTIPOLYGON (((-60.82119 9.13838, -60.94141 9...   \n",
       "\n",
       "     year  Plot             Label   colour  \n",
       "0     NaN   NaN               NaN    white  \n",
       "1     NaN   NaN               NaN    white  \n",
       "2     NaN   NaN               NaN    white  \n",
       "3  2016.0   1.0  Country in scope  #aa381e  \n",
       "4     NaN   NaN               NaN    white  "
      ]
     },
     "execution_count": 27,
     "metadata": {},
     "output_type": "execute_result"
    }
   ],
   "source": [
    "# Colour column\n",
    "colour_series = []\n",
    "\n",
    "for entry in list(gdf_map_merged.Plot):\n",
    "    \n",
    "    if entry == 1:\n",
    "        colour_series.append(\"#aa381e\")\n",
    "    else:\n",
    "        colour_series.append(\"white\")\n",
    "\n",
    "gdf_map_merged[\"colour\"] = colour_series\n",
    "gdf_map_merged.head()"
   ]
  },
  {
   "cell_type": "code",
   "execution_count": 28,
   "metadata": {},
   "outputs": [
    {
     "data": {
      "text/plain": [
       "<AxesSubplot:>"
      ]
     },
     "execution_count": 28,
     "metadata": {},
     "output_type": "execute_result"
    },
    {
     "data": {
      "image/png": "[encoded data removed]",
      "text/plain": [
       "<Figure size 432x288 with 1 Axes>"
      ]
     },
     "metadata": {
      "needs_background": "light"
     },
     "output_type": "display_data"
    }
   ],
   "source": [
    "# sample plot\n",
    "gdf_map_merged.plot()"
   ]
  },
  {
   "cell_type": "code",
   "execution_count": 29,
   "metadata": {},
   "outputs": [
    {
     "ename": "AttributeError",
     "evalue": "'GeoDataFrame' object has no attribute 'BRI_label'",
     "output_type": "error",
     "traceback": [
      "\u001b[0;31m---------------------------------------------------------------------------\u001b[0m",
      "\u001b[0;31mAttributeError\u001b[0m                            Traceback (most recent call last)",
      "\u001b[0;32m<ipython-input-29-5792d5680dd1>\u001b[0m in \u001b[0;36m<module>\u001b[0;34m\u001b[0m\n\u001b[1;32m      1\u001b[0m \u001b[0;31m# dataframe to feed plot\u001b[0m\u001b[0;34m\u001b[0m\u001b[0;34m\u001b[0m\u001b[0;34m\u001b[0m\u001b[0m\n\u001b[1;32m      2\u001b[0m \u001b[0mgdf_plot\u001b[0m \u001b[0;34m=\u001b[0m \u001b[0mgdf_map_merged\u001b[0m\u001b[0;34m[\u001b[0m\u001b[0;34m(\u001b[0m\u001b[0mgdf_map_merged\u001b[0m\u001b[0;34m.\u001b[0m\u001b[0mcountry_name\u001b[0m\u001b[0;34m!=\u001b[0m\u001b[0;34m\"Antarctica\"\u001b[0m\u001b[0;34m)\u001b[0m\u001b[0;34m]\u001b[0m\u001b[0;34m\u001b[0m\u001b[0;34m\u001b[0m\u001b[0m\n\u001b[0;32m----> 3\u001b[0;31m \u001b[0mnumber_categories\u001b[0m \u001b[0;34m=\u001b[0m \u001b[0mlen\u001b[0m\u001b[0;34m(\u001b[0m\u001b[0mgdf_plot\u001b[0m\u001b[0;34m.\u001b[0m\u001b[0mBRI_label\u001b[0m\u001b[0;34m.\u001b[0m\u001b[0munique\u001b[0m\u001b[0;34m(\u001b[0m\u001b[0;34m)\u001b[0m\u001b[0;34m)\u001b[0m\u001b[0;34m\u001b[0m\u001b[0;34m\u001b[0m\u001b[0m\n\u001b[0m\u001b[1;32m      4\u001b[0m \u001b[0;34m\u001b[0m\u001b[0m\n\u001b[1;32m      5\u001b[0m \u001b[0;31m# Plotting # define number of bins we want from cmap\u001b[0m\u001b[0;34m\u001b[0m\u001b[0;34m\u001b[0m\u001b[0;34m\u001b[0m\u001b[0m\n",
      "\u001b[0;32m~/opt/anaconda3/lib/python3.7/site-packages/pandas/core/generic.py\u001b[0m in \u001b[0;36m__getattr__\u001b[0;34m(self, name)\u001b[0m\n\u001b[1;32m   5128\u001b[0m             \u001b[0;32mif\u001b[0m \u001b[0mself\u001b[0m\u001b[0;34m.\u001b[0m\u001b[0m_info_axis\u001b[0m\u001b[0;34m.\u001b[0m\u001b[0m_can_hold_identifiers_and_holds_name\u001b[0m\u001b[0;34m(\u001b[0m\u001b[0mname\u001b[0m\u001b[0;34m)\u001b[0m\u001b[0;34m:\u001b[0m\u001b[0;34m\u001b[0m\u001b[0;34m\u001b[0m\u001b[0m\n\u001b[1;32m   5129\u001b[0m                 \u001b[0;32mreturn\u001b[0m \u001b[0mself\u001b[0m\u001b[0;34m[\u001b[0m\u001b[0mname\u001b[0m\u001b[0;34m]\u001b[0m\u001b[0;34m\u001b[0m\u001b[0;34m\u001b[0m\u001b[0m\n\u001b[0;32m-> 5130\u001b[0;31m             \u001b[0;32mreturn\u001b[0m \u001b[0mobject\u001b[0m\u001b[0;34m.\u001b[0m\u001b[0m__getattribute__\u001b[0m\u001b[0;34m(\u001b[0m\u001b[0mself\u001b[0m\u001b[0;34m,\u001b[0m \u001b[0mname\u001b[0m\u001b[0;34m)\u001b[0m\u001b[0;34m\u001b[0m\u001b[0;34m\u001b[0m\u001b[0m\n\u001b[0m\u001b[1;32m   5131\u001b[0m \u001b[0;34m\u001b[0m\u001b[0m\n\u001b[1;32m   5132\u001b[0m     \u001b[0;32mdef\u001b[0m \u001b[0m__setattr__\u001b[0m\u001b[0;34m(\u001b[0m\u001b[0mself\u001b[0m\u001b[0;34m,\u001b[0m \u001b[0mname\u001b[0m\u001b[0;34m:\u001b[0m \u001b[0mstr\u001b[0m\u001b[0;34m,\u001b[0m \u001b[0mvalue\u001b[0m\u001b[0;34m)\u001b[0m \u001b[0;34m->\u001b[0m \u001b[0;32mNone\u001b[0m\u001b[0;34m:\u001b[0m\u001b[0;34m\u001b[0m\u001b[0;34m\u001b[0m\u001b[0m\n",
      "\u001b[0;31mAttributeError\u001b[0m: 'GeoDataFrame' object has no attribute 'BRI_label'"
     ]
    }
   ],
   "source": [
    "# dataframe to feed plot\n",
    "gdf_plot = gdf_map_merged[(gdf_map_merged.country_name!=\"Antarctica\")]\n",
    "number_categories = len(gdf_plot.Label.unique())\n",
    "\n",
    "# Plotting # define number of bins we want from cmap\n",
    "fig, ax_bri = plt.subplots(1, figsize=(25,20))\n",
    "\n",
    "gdf_plot.plot(\n",
    "    # Data\n",
    "    column = \"Plot\",categorical = True,\n",
    "    \n",
    "    # Colouring map and data\n",
    "    cmap= plt.cm.get_cmap(\"Greens_r\",number_categories),\n",
    "    #color = gdf_plot.colour,\n",
    "    linewidth = 0.2,\n",
    "    edgecolor = \"darkgreen\",\n",
    "    hatch = \"\",\n",
    "    \n",
    "    # Missing data\n",
    "    missing_kwds={\n",
    "            \"color\": \"lightgrey\",\n",
    "            #\"edgecolor\": \"lightcoral\",\n",
    "            \"edgecolor\": \"dimgrey\",\n",
    "            \"linewidth\": 0.2,\n",
    "            #\"hatch\": \"////\",\n",
    "            \"label\": \"Non-participating country\",\n",
    "    },\n",
    "    # Legend\n",
    "    legend= True,legend_kwds={'bbox_to_anchor':(0.2,0.4),'fontsize':15,'frameon':True},\n",
    "    \n",
    "    # Assign to axis\n",
    "    ax =ax_bri)\n",
    "\n",
    "# Labels\n",
    "#gdf_plot.apply(lambda x: ax_bri.annotate(s=x.iso_3, xy=x.geometry.centroid.coords[0], ha='center',color = \"black\",fontsize = 6),axis=1)\n",
    "\n",
    "# Final customisation (map axis, title and layout padding)\n",
    "ax_bri.axis('off')\n",
    "ax_bri.set_title(\"Countries\",fontsize=30)\n",
    "plt.tight_layout()"
   ]
  },
  {
   "cell_type": "code",
   "execution_count": 16,
   "metadata": {},
   "outputs": [],
   "source": [
    "# Save image\n",
    "keyword = \"_no_labels\"\n",
    "fig.savefig(f\"{path_image}{notebook_id}_BRI_members{keyword}.png\",dpi=300)"
   ]
  },
  {
   "cell_type": "markdown",
   "metadata": {},
   "source": [
    "### Improvements\n",
    "\n",
    "Countries over time, we are recreating something like this [here](https://green-bri.org/countries-of-the-belt-and-road-initiative-bri) || Chinese source: https://www.yidaiyilu.gov.cn/gbjg/gbgk/77073.htm **DONE**\n",
    "\n",
    "2015 65 members reference here [here](https://www.fbicgroup.com/sites/default/files/B&R_Initiative_65_Countries_and_Beyond.pdf) **DONE**\n",
    "\n",
    "Use shading of colours to demonstrate the different years. **DONE**"
   ]
  }
 ],
 "metadata": {
  "kernelspec": {
   "display_name": "Python 3",
   "language": "python",
   "name": "python3"
  },
  "language_info": {
   "codemirror_mode": {
    "name": "ipython",
    "version": 3
   },
   "file_extension": ".py",
   "mimetype": "text/x-python",
   "name": "python",
   "nbconvert_exporter": "python",
   "pygments_lexer": "ipython3",
   "version": "3.7.4"
  }
 },
 "nbformat": 4,
 "nbformat_minor": 2
}
