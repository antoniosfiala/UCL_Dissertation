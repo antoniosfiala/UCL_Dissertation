{
 "cells": [
  {
   "cell_type": "code",
   "execution_count": 3,
   "metadata": {},
   "outputs": [],
   "source": [
    "notebook_id = \"113\""
   ]
  },
  {
   "cell_type": "markdown",
   "metadata": {},
   "source": [
    "<a id=\"ID_top\"></a>\n",
    "## Load up and amend BRI membership file\n",
    "\n",
    "Load manually compiled excel, amend as needed and export for live use"
   ]
  },
  {
   "cell_type": "markdown",
   "metadata": {},
   "source": [
    "#### Notebook sections:\n",
    "    \n",
    "|| [0| Default imports](#ID_top) || [1|Part1](#ID_part1) || [2|Part2](#ID_part2) ||"
   ]
  },
  {
   "cell_type": "markdown",
   "metadata": {},
   "source": [
    "#### Import all packages that could be required"
   ]
  },
  {
   "cell_type": "code",
   "execution_count": 12,
   "metadata": {},
   "outputs": [],
   "source": [
    "# %load s_package_import.py\n",
    "# general packages\n",
    "import os # use with os.listdir(_path_)\n",
    "# data analysis packages\n",
    "import pandas as pd\n",
    "pd.options.display.max_columns = None # don't truncate columns\n",
    "import numpy as np"
   ]
  },
  {
   "cell_type": "markdown",
   "metadata": {},
   "source": [
    "#### Import module and declare path variables\n",
    "`import s_filepaths.py`"
   ]
  },
  {
   "cell_type": "code",
   "execution_count": 11,
   "metadata": {},
   "outputs": [],
   "source": [
    "# import ref file\n",
    "import s_filepaths\n",
    "\n",
    "# declare local variables to work with\n",
    "path_raw = s_filepaths.path_raw\n",
    "path_raw_dl = s_filepaths.path_raw_dl\n",
    "path_store = s_filepaths.path_store\n",
    "path_live = s_filepaths.path_live"
   ]
  },
  {
   "cell_type": "markdown",
   "metadata": {},
   "source": [
    "<a id=\"ID_part1\"></a>\n",
    "### Part 1 | Load and amend data\n",
    "|| [0| Default imports](#ID_top) || [1|Part1](#ID_part1) || [2|Part2](#ID_part2) || [3|Part3](#ID_part3) || [4|Part4](#ID_part4) || [5|Part5](#ID_part5) ||"
   ]
  },
  {
   "cell_type": "code",
   "execution_count": 4,
   "metadata": {},
   "outputs": [
    {
     "name": "stdout",
     "output_type": "stream",
     "text": [
      "['0_Archive', 'BRI_countries_online_MANUAL.csv', '.DS_Store', '0_raw_explainer_doc.md', '1_auto_download', '112_raw_gme_raw_site_dl.csv.gzip']\n"
     ]
    }
   ],
   "source": [
    "# View all files in live directory\n",
    "print(os.listdir(f\"{path_raw}\"))"
   ]
  },
  {
   "cell_type": "markdown",
   "metadata": {},
   "source": [
    "**Load in belt and road initiative countries**"
   ]
  },
  {
   "cell_type": "code",
   "execution_count": 6,
   "metadata": {},
   "outputs": [],
   "source": [
    "# load raw csv\n",
    "df_bri_raw = pd.read_csv(f\"{path_raw}/BRI_countries_online_MANUAL.csv\")"
   ]
  },
  {
   "cell_type": "code",
   "execution_count": 9,
   "metadata": {},
   "outputs": [
    {
     "data": {
      "text/html": [
       "<div>\n",
       "<style scoped>\n",
       "    .dataframe tbody tr th:only-of-type {\n",
       "        vertical-align: middle;\n",
       "    }\n",
       "\n",
       "    .dataframe tbody tr th {\n",
       "        vertical-align: top;\n",
       "    }\n",
       "\n",
       "    .dataframe thead th {\n",
       "        text-align: right;\n",
       "    }\n",
       "</style>\n",
       "<table border=\"1\" class=\"dataframe\">\n",
       "  <thead>\n",
       "    <tr style=\"text-align: right;\">\n",
       "      <th></th>\n",
       "      <th>Country</th>\n",
       "      <th>Region</th>\n",
       "      <th>Income category</th>\n",
       "      <th>Year MOU sign</th>\n",
       "      <th>MOU link</th>\n",
       "      <th>Comment</th>\n",
       "    </tr>\n",
       "  </thead>\n",
       "  <tbody>\n",
       "    <tr>\n",
       "      <th>0</th>\n",
       "      <td>Afghanistan</td>\n",
       "      <td>South Asia</td>\n",
       "      <td>Low income</td>\n",
       "      <td>2016.0</td>\n",
       "      <td>NaN</td>\n",
       "      <td>https://eng.yidaiyilu.gov.cn/zchj/sbwj/1425.htm</td>\n",
       "    </tr>\n",
       "    <tr>\n",
       "      <th>1</th>\n",
       "      <td>Albania</td>\n",
       "      <td>Europe &amp; Central Asia</td>\n",
       "      <td>Upper middle income</td>\n",
       "      <td>2017.0</td>\n",
       "      <td>NaN</td>\n",
       "      <td>NaN</td>\n",
       "    </tr>\n",
       "    <tr>\n",
       "      <th>2</th>\n",
       "      <td>Algeria</td>\n",
       "      <td>Middle East &amp; North Africa</td>\n",
       "      <td>Upper middle income</td>\n",
       "      <td>2018.0</td>\n",
       "      <td>NaN</td>\n",
       "      <td>NaN</td>\n",
       "    </tr>\n",
       "    <tr>\n",
       "      <th>3</th>\n",
       "      <td>Angola</td>\n",
       "      <td>Sub-Saharan Africa</td>\n",
       "      <td>Lower middle income</td>\n",
       "      <td>2018.0</td>\n",
       "      <td>NaN</td>\n",
       "      <td>NaN</td>\n",
       "    </tr>\n",
       "    <tr>\n",
       "      <th>4</th>\n",
       "      <td>Antigua and Barbuda</td>\n",
       "      <td>Latin America &amp; Caribbean</td>\n",
       "      <td>High income</td>\n",
       "      <td>2018.0</td>\n",
       "      <td>https://eng.yidaiyilu.gov.cn/qwyw/rdxw/57191.htm</td>\n",
       "      <td>NaN</td>\n",
       "    </tr>\n",
       "  </tbody>\n",
       "</table>\n",
       "</div>"
      ],
      "text/plain": [
       "               Country                      Region      Income category  \\\n",
       "0          Afghanistan                  South Asia           Low income   \n",
       "1              Albania       Europe & Central Asia  Upper middle income   \n",
       "2              Algeria  Middle East & North Africa  Upper middle income   \n",
       "3               Angola          Sub-Saharan Africa  Lower middle income   \n",
       "4  Antigua and Barbuda   Latin America & Caribbean          High income   \n",
       "\n",
       "   Year MOU sign                                          MOU link  \\\n",
       "0         2016.0                                               NaN   \n",
       "1         2017.0                                               NaN   \n",
       "2         2018.0                                               NaN   \n",
       "3         2018.0                                               NaN   \n",
       "4         2018.0  https://eng.yidaiyilu.gov.cn/qwyw/rdxw/57191.htm   \n",
       "\n",
       "                                           Comment  \n",
       "0  https://eng.yidaiyilu.gov.cn/zchj/sbwj/1425.htm  \n",
       "1                                              NaN  \n",
       "2                                              NaN  \n",
       "3                                              NaN  \n",
       "4                                              NaN  "
      ]
     },
     "execution_count": 9,
     "metadata": {},
     "output_type": "execute_result"
    }
   ],
   "source": [
    "# preview data frame\n",
    "df_bri_raw.head()"
   ]
  },
  {
   "cell_type": "code",
   "execution_count": null,
   "metadata": {},
   "outputs": [],
   "source": [
    "# Nothing to amend"
   ]
  },
  {
   "cell_type": "markdown",
   "metadata": {},
   "source": [
    "<a id=\"ID_part2\"></a>\n",
    "### Part 2 | Export data\n",
    "|| [0| Default imports](#ID_top) || [1|Part1](#ID_part1) || [2|Part2](#ID_part2) ||"
   ]
  },
  {
   "cell_type": "code",
   "execution_count": 10,
   "metadata": {},
   "outputs": [
    {
     "name": "stdout",
     "output_type": "stream",
     "text": [
      "Export | ../Data/1_raw_processed_backup/113_store_bri_members_20200808_1920.csv | COMPLETE\n",
      "COPY   | ../Data/2_raw_processed_input/113_input_bri_members.csv.gzip | COMPLETE\n"
     ]
    }
   ],
   "source": [
    "# Save to live\n",
    "filename = \"bri_members\"\n",
    "s_file_export.f_df_export(df_bri_raw,filename,p_file_id=f\"{notebook_id}_\")"
   ]
  }
 ],
 "metadata": {
  "kernelspec": {
   "display_name": "Python 3",
   "language": "python",
   "name": "python3"
  },
  "language_info": {
   "codemirror_mode": {
    "name": "ipython",
    "version": 3
   },
   "file_extension": ".py",
   "mimetype": "text/x-python",
   "name": "python",
   "nbconvert_exporter": "python",
   "pygments_lexer": "ipython3",
   "version": "3.7.4"
  }
 },
 "nbformat": 4,
 "nbformat_minor": 2
}
