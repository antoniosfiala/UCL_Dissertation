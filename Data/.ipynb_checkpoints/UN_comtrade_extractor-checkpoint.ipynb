{
 "cells": [
  {
   "cell_type": "markdown",
   "metadata": {},
   "source": [
    "<a id=\"ID_top\"></a>\n",
    "## UNCOMTRADE API extractor\n",
    "\n",
    "Outline purpose of workflow."
   ]
  },
  {
   "cell_type": "markdown",
   "metadata": {},
   "source": [
    "#### load other scripts with \n",
    "`%load script_filepaths.py`"
   ]
  },
  {
   "cell_type": "markdown",
   "metadata": {},
   "source": [
    "#### Notebook sections:\n",
    "    \n",
    "|| [0|Top](#ID_top) || [1|Part1](#ID_part1) || [2|Part2](#ID_part2) || [3|Part3](#ID_part3) || [4|Part4](#ID_part4) || [5|Part5](#ID_part5) ||"
   ]
  },
  {
   "cell_type": "code",
   "execution_count": 1,
   "metadata": {},
   "outputs": [],
   "source": [
    "# %load script_un_comtrade_extract.py\n",
    "# Packages just in case\n",
    "#=== Packages\n",
    "import os\n",
    "import pandas as pd\n",
    "import requests\n",
    "import csv\n",
    "import time"
   ]
  },
  {
   "cell_type": "code",
   "execution_count": 2,
   "metadata": {},
   "outputs": [],
   "source": [
    "import script_un_comtrade_extract as un_ex\n",
    "import script_filepaths as af_save\n",
    "\n",
    "create_ref_doc = False"
   ]
  },
  {
   "cell_type": "code",
   "execution_count": 3,
   "metadata": {},
   "outputs": [],
   "source": [
    "file_path_0_raw       = \"./0_raw/\"\n",
    "file_path_1_backup    = \"./1_raw_processed_backup/\"\n",
    "file_path_2_input     = \"./2_raw_processed_input/\"\n",
    "file_path_3_generated = \"./3_generated_inputs/\""
   ]
  },
  {
   "cell_type": "markdown",
   "metadata": {},
   "source": [
    "<a id=\"ID_part1\"></a>\n",
    "### Set up fetching URL\n",
    "|| [0|Top](#ID_top) || [1|Part1](#ID_part1) || [2|Part2](#ID_part2) || [3|Part3](#ID_part3) || [4|Part4](#ID_part4) || [5|Part5](#ID_part5) ||\n",
    "\n",
    "Key for URL get headings: https://comtrade.un.org/api/swagger/ui/index#!/Data/Data_GetData\n",
    "<br>Reporter explanation: https://comtrade.un.org/data/doc/api/#reporters\n",
    "\n",
    "Reporter ids: https://comtrade.un.org/Data/cache/reporterAreas.json"
   ]
  },
  {
   "cell_type": "code",
   "execution_count": 4,
   "metadata": {},
   "outputs": [
    {
     "name": "stdout",
     "output_type": "stream",
     "text": [
      "Skipped\n"
     ]
    }
   ],
   "source": [
    "if create_ref_doc:\n",
    "    #\"854\",\"300\", #|| 842 is the Unite States which should give us enough coverage of most countries to fetch their UN numerical IDs \n",
    "    un_extract = un_ex.f_un_comtrade_data(p_r_country = [\"842\"],p_p_country = [\"all\"])\n",
    "\n",
    "    af_save.f_export(un_extract[0][0],\"un_com_usa_ref\")\n",
    "else:\n",
    "    print(\"Skipped\")"
   ]
  },
  {
   "cell_type": "markdown",
   "metadata": {},
   "source": [
    "<a id=\"ID_part2\"></a>\n",
    "### Part 2 | Create reference document for UN IDs\n",
    "|| [0|Top](#ID_top) || [1|Part1](#ID_part1) || [2|Part2](#ID_part2) || [3|Part3](#ID_part3) || [4|Part4](#ID_part4) || [5|Part5](#ID_part5) ||"
   ]
  },
  {
   "cell_type": "code",
   "execution_count": 5,
   "metadata": {},
   "outputs": [
    {
     "name": "stdout",
     "output_type": "stream",
     "text": [
      "Skipped\n"
     ]
    }
   ],
   "source": [
    "if create_ref_doc:\n",
    "    # list of all files\n",
    "    filenames = os.listdir(file_path_2_input)\n",
    "    print(filenames)\n",
    "\n",
    "    # list of file names that can be read with same rule\n",
    "    file_name = \"input_un_com_usa_ref.csv.gzip\"\n",
    "    \n",
    "    df_un_usa_ref = pd.read_csv(f\"{file_path_2_input}{file_name}\",compression= \"gzip\")\n",
    "    \n",
    "    useful_columns = ['pt3ISO','ptCode','ptTitle','pt3ISO2',\n",
    "       'ptCode2',  'ptTitle2']\n",
    "    df_un_usa_ref.columns\n",
    "else:\n",
    "    print(\"Skipped\")"
   ]
  },
  {
   "cell_type": "code",
   "execution_count": 6,
   "metadata": {},
   "outputs": [
    {
     "name": "stdout",
     "output_type": "stream",
     "text": [
      "Skipped\n"
     ]
    }
   ],
   "source": [
    "if create_ref_doc:\n",
    "    # reference dataframe\n",
    "    un_ref_data = df_un_usa_ref.loc[:,useful_columns].drop_duplicates()\n",
    "    un_ref_data = un_ref_data.iloc[:,0:3].copy()\n",
    "\n",
    "    af_save.f_export(un_ref_data,\"un_codes_ref\")\n",
    "else:\n",
    "    print(\"Skipped\")"
   ]
  },
  {
   "cell_type": "markdown",
   "metadata": {},
   "source": [
    "<a id=\"ID_part3\"></a>\n",
    "### Match to BRI reference countries\n",
    "|| [0|Top](#ID_top) || [1|Part1](#ID_part1) || [2|Part2](#ID_part2) || [3|Part3](#ID_part3) || [4|Part4](#ID_part4) || [5|Part5](#ID_part5) ||"
   ]
  },
  {
   "cell_type": "code",
   "execution_count": 7,
   "metadata": {},
   "outputs": [
    {
     "data": {
      "text/html": [
       "<div>\n",
       "<style scoped>\n",
       "    .dataframe tbody tr th:only-of-type {\n",
       "        vertical-align: middle;\n",
       "    }\n",
       "\n",
       "    .dataframe tbody tr th {\n",
       "        vertical-align: top;\n",
       "    }\n",
       "\n",
       "    .dataframe thead th {\n",
       "        text-align: right;\n",
       "    }\n",
       "</style>\n",
       "<table border=\"1\" class=\"dataframe\">\n",
       "  <thead>\n",
       "    <tr style=\"text-align: right;\">\n",
       "      <th></th>\n",
       "      <th>pt3ISO</th>\n",
       "      <th>ptCode</th>\n",
       "      <th>ptTitle</th>\n",
       "    </tr>\n",
       "  </thead>\n",
       "  <tbody>\n",
       "    <tr>\n",
       "      <th>0</th>\n",
       "      <td>WLD</td>\n",
       "      <td>0</td>\n",
       "      <td>World</td>\n",
       "    </tr>\n",
       "    <tr>\n",
       "      <th>1</th>\n",
       "      <td>AFG</td>\n",
       "      <td>4</td>\n",
       "      <td>Afghanistan</td>\n",
       "    </tr>\n",
       "    <tr>\n",
       "      <th>2</th>\n",
       "      <td>DZA</td>\n",
       "      <td>12</td>\n",
       "      <td>Algeria</td>\n",
       "    </tr>\n",
       "    <tr>\n",
       "      <th>3</th>\n",
       "      <td>ATG</td>\n",
       "      <td>28</td>\n",
       "      <td>Antigua and Barbuda</td>\n",
       "    </tr>\n",
       "    <tr>\n",
       "      <th>4</th>\n",
       "      <td>AZE</td>\n",
       "      <td>31</td>\n",
       "      <td>Azerbaijan</td>\n",
       "    </tr>\n",
       "  </tbody>\n",
       "</table>\n",
       "</div>"
      ],
      "text/plain": [
       "  pt3ISO  ptCode              ptTitle\n",
       "0    WLD       0                World\n",
       "1    AFG       4          Afghanistan\n",
       "2    DZA      12              Algeria\n",
       "3    ATG      28  Antigua and Barbuda\n",
       "4    AZE      31           Azerbaijan"
      ]
     },
     "execution_count": 7,
     "metadata": {},
     "output_type": "execute_result"
    }
   ],
   "source": [
    "# import BRI reference list\n",
    "un_ref_data = pd.read_csv(f\"{file_path_2_input}input_un_codes_ref.csv.gzip\", compression=\"gzip\")\n",
    "\n",
    "try:\n",
    "    un_ref_data.drop(\"Unnamed: 0\",axis = 1,inplace = True)\n",
    "except:\n",
    "    pass\n",
    "\n",
    "un_ref_data_clean = un_ref_data.reset_index(drop = True)\n",
    "un_ref_data_clean.head()"
   ]
  },
  {
   "cell_type": "code",
   "execution_count": 8,
   "metadata": {},
   "outputs": [
    {
     "data": {
      "text/plain": [
       "93"
      ]
     },
     "execution_count": 8,
     "metadata": {},
     "output_type": "execute_result"
    }
   ],
   "source": [
    "# import BRI reference list\n",
    "df_bri_list = pd.read_csv(f\"{file_path_2_input}input_bri_countries_Dumor_Yao.csv.gzip\", compression=\"gzip\")\n",
    "len(df_bri_list)"
   ]
  },
  {
   "cell_type": "code",
   "execution_count": 9,
   "metadata": {},
   "outputs": [
    {
     "data": {
      "text/html": [
       "<div>\n",
       "<style scoped>\n",
       "    .dataframe tbody tr th:only-of-type {\n",
       "        vertical-align: middle;\n",
       "    }\n",
       "\n",
       "    .dataframe tbody tr th {\n",
       "        vertical-align: top;\n",
       "    }\n",
       "\n",
       "    .dataframe thead th {\n",
       "        text-align: right;\n",
       "    }\n",
       "</style>\n",
       "<table border=\"1\" class=\"dataframe\">\n",
       "  <thead>\n",
       "    <tr style=\"text-align: right;\">\n",
       "      <th></th>\n",
       "      <th>Unnamed: 0</th>\n",
       "      <th>BRI_Country</th>\n",
       "      <th>iso_3</th>\n",
       "      <th>pt3ISO</th>\n",
       "      <th>ptCode</th>\n",
       "      <th>ptTitle</th>\n",
       "    </tr>\n",
       "  </thead>\n",
       "  <tbody>\n",
       "    <tr>\n",
       "      <th>0</th>\n",
       "      <td>0</td>\n",
       "      <td>Albania</td>\n",
       "      <td>ALB</td>\n",
       "      <td>ALB</td>\n",
       "      <td>8</td>\n",
       "      <td>Albania</td>\n",
       "    </tr>\n",
       "    <tr>\n",
       "      <th>1</th>\n",
       "      <td>1</td>\n",
       "      <td>Armenia</td>\n",
       "      <td>ARM</td>\n",
       "      <td>ARM</td>\n",
       "      <td>51</td>\n",
       "      <td>Armenia</td>\n",
       "    </tr>\n",
       "    <tr>\n",
       "      <th>2</th>\n",
       "      <td>2</td>\n",
       "      <td>Austria</td>\n",
       "      <td>AUT</td>\n",
       "      <td>AUT</td>\n",
       "      <td>40</td>\n",
       "      <td>Austria</td>\n",
       "    </tr>\n",
       "    <tr>\n",
       "      <th>3</th>\n",
       "      <td>3</td>\n",
       "      <td>Azerbaijan</td>\n",
       "      <td>AZE</td>\n",
       "      <td>AZE</td>\n",
       "      <td>31</td>\n",
       "      <td>Azerbaijan</td>\n",
       "    </tr>\n",
       "    <tr>\n",
       "      <th>4</th>\n",
       "      <td>4</td>\n",
       "      <td>Bangladesh</td>\n",
       "      <td>BGD</td>\n",
       "      <td>BGD</td>\n",
       "      <td>50</td>\n",
       "      <td>Bangladesh</td>\n",
       "    </tr>\n",
       "  </tbody>\n",
       "</table>\n",
       "</div>"
      ],
      "text/plain": [
       "   Unnamed: 0 BRI_Country iso_3 pt3ISO  ptCode     ptTitle\n",
       "0           0     Albania   ALB    ALB       8     Albania\n",
       "1           1     Armenia   ARM    ARM      51     Armenia\n",
       "2           2     Austria   AUT    AUT      40     Austria\n",
       "3           3  Azerbaijan   AZE    AZE      31  Azerbaijan\n",
       "4           4  Bangladesh   BGD    BGD      50  Bangladesh"
      ]
     },
     "execution_count": 9,
     "metadata": {},
     "output_type": "execute_result"
    }
   ],
   "source": [
    "df_bri_matched = df_bri_list.merge(un_ref_data_clean,left_on = \"iso_3\",right_on = \"pt3ISO\")\n",
    "df_bri_matched.head()"
   ]
  },
  {
   "cell_type": "code",
   "execution_count": null,
   "metadata": {},
   "outputs": [],
   "source": []
  },
  {
   "cell_type": "markdown",
   "metadata": {},
   "source": [
    "<a id=\"ID_part4\"></a>\n",
    "### Loop through download\n",
    "|| [0|Top](#ID_top) || [1|Part1](#ID_part1) || [2|Part2](#ID_part2) || [3|Part3](#ID_part3) || [4|Part4](#ID_part4) || [5|Part5](#ID_part5) ||"
   ]
  },
  {
   "cell_type": "code",
   "execution_count": 13,
   "metadata": {},
   "outputs": [],
   "source": [
    "# URL settings\n",
    "url_comma = \"%2C\"\n",
    "url_add = \"&\"\n",
    "\n",
    "extra_cc = f\"cc=TOTAL\""
   ]
  },
  {
   "cell_type": "code",
   "execution_count": 82,
   "metadata": {},
   "outputs": [
    {
     "data": {
      "text/plain": [
       "5.376344086021505"
      ]
     },
     "execution_count": 82,
     "metadata": {},
     "output_type": "execute_result"
    }
   ],
   "source": []
  },
  {
   "cell_type": "code",
   "execution_count": 78,
   "metadata": {
    "scrolled": false
   },
   "outputs": [
    {
     "name": "stdout",
     "output_type": "stream",
     "text": [
      "Working on | Albania | 1/93 (1)\n",
      "WORKING ON | Country 8| URL https://comtrade.un.org/api/get?r=8&p=all&freq=A&ps=2011&cc=TOTAL\n",
      "OBLIGATORY PAUSE\n",
      "Working on | Armenia | 2/93 (2)\n",
      "WORKING ON | Country 51| URL https://comtrade.un.org/api/get?r=51&p=all&freq=A&ps=2011&cc=TOTAL\n",
      "OBLIGATORY PAUSE\n",
      "Working on | Austria | 3/93 (3)\n",
      "WORKING ON | Country 40| URL https://comtrade.un.org/api/get?r=40&p=all&freq=A&ps=2011&cc=TOTAL\n",
      "DL ATTEMPT | Country 40| URL https://comtrade.un.org/api/get?r=40&p=all&freq=A&ps=2011&cc=TOTAL | not ok, data not processed further\n",
      "OBLIGATORY PAUSE\n",
      "Working on | Azerbaijan | 4/93 (4)\n",
      "WORKING ON | Country 31| URL https://comtrade.un.org/api/get?r=31&p=all&freq=A&ps=2011&cc=TOTAL\n",
      "OBLIGATORY PAUSE\n",
      "Working on | Bangladesh | 5/93 (5)\n",
      "WORKING ON | Country 50| URL https://comtrade.un.org/api/get?r=50&p=all&freq=A&ps=2011&cc=TOTAL\n",
      "OBLIGATORY PAUSE\n"
     ]
    },
    {
     "ename": "KeyboardInterrupt",
     "evalue": "",
     "output_type": "error",
     "traceback": [
      "\u001b[0;31m---------------------------------------------------------------------------\u001b[0m",
      "\u001b[0;31mKeyboardInterrupt\u001b[0m                         Traceback (most recent call last)",
      "\u001b[0;32m<ipython-input-78-e3c21d1c99cd>\u001b[0m in \u001b[0;36m<module>\u001b[0;34m\u001b[0m\n\u001b[1;32m     10\u001b[0m     \u001b[0;31m# run functions to extract\u001b[0m\u001b[0;34m\u001b[0m\u001b[0;34m\u001b[0m\u001b[0;34m\u001b[0m\u001b[0m\n\u001b[1;32m     11\u001b[0m     \u001b[0mdl_year\u001b[0m \u001b[0;34m=\u001b[0m \u001b[0;34m\"2011\"\u001b[0m\u001b[0;34m\u001b[0m\u001b[0;34m\u001b[0m\u001b[0m\n\u001b[0;32m---> 12\u001b[0;31m     \u001b[0mun_extract\u001b[0m \u001b[0;34m=\u001b[0m \u001b[0mun_ex\u001b[0m\u001b[0;34m.\u001b[0m\u001b[0mf_un_comtrade_data\u001b[0m\u001b[0;34m(\u001b[0m\u001b[0mp_r_country\u001b[0m \u001b[0;34m=\u001b[0m \u001b[0;34m[\u001b[0m\u001b[0mstr\u001b[0m\u001b[0;34m(\u001b[0m\u001b[0mentry\u001b[0m\u001b[0;34m)\u001b[0m\u001b[0;34m]\u001b[0m\u001b[0;34m,\u001b[0m\u001b[0mp_p_country\u001b[0m \u001b[0;34m=\u001b[0m \u001b[0;34m[\u001b[0m\u001b[0;34m\"all\"\u001b[0m\u001b[0;34m]\u001b[0m\u001b[0;34m,\u001b[0m\u001b[0mp_ps_years\u001b[0m\u001b[0;34m=\u001b[0m\u001b[0;34m[\u001b[0m\u001b[0mdl_year\u001b[0m\u001b[0;34m]\u001b[0m\u001b[0;34m,\u001b[0m\u001b[0mp_extra\u001b[0m \u001b[0;34m=\u001b[0m \u001b[0mextra_cc\u001b[0m\u001b[0;34m)\u001b[0m\u001b[0;34m\u001b[0m\u001b[0;34m\u001b[0m\u001b[0m\n\u001b[0m\u001b[1;32m     13\u001b[0m \u001b[0;34m\u001b[0m\u001b[0m\n\u001b[1;32m     14\u001b[0m     \u001b[0;32mtry\u001b[0m\u001b[0;34m:\u001b[0m\u001b[0;34m\u001b[0m\u001b[0;34m\u001b[0m\u001b[0m\n",
      "\u001b[0;32m~/Documents/Study/5_UCL/Modules/[3][60] Dissertation/GitRepo/UCL_Dissertation/Data/script_un_comtrade_extract.py\u001b[0m in \u001b[0;36mf_un_comtrade_data\u001b[0;34m(p_r_country, p_p_country, p_freq, p_ps_years, p_extra)\u001b[0m\n\u001b[1;32m    110\u001b[0m \u001b[0;34m\u001b[0m\u001b[0m\n\u001b[1;32m    111\u001b[0m         \u001b[0mprint\u001b[0m\u001b[0;34m(\u001b[0m\u001b[0;34m\"OBLIGATORY PAUSE\"\u001b[0m\u001b[0;34m)\u001b[0m\u001b[0;34m\u001b[0m\u001b[0;34m\u001b[0m\u001b[0m\n\u001b[0;32m--> 112\u001b[0;31m         \u001b[0mtime\u001b[0m\u001b[0;34m.\u001b[0m\u001b[0msleep\u001b[0m\u001b[0;34m(\u001b[0m\u001b[0;36m2\u001b[0m\u001b[0;34m)\u001b[0m\u001b[0;34m\u001b[0m\u001b[0;34m\u001b[0m\u001b[0m\n\u001b[0m\u001b[1;32m    113\u001b[0m \u001b[0;34m\u001b[0m\u001b[0m\n\u001b[1;32m    114\u001b[0m \u001b[0;34m\u001b[0m\u001b[0m\n",
      "\u001b[0;31mKeyboardInterrupt\u001b[0m: "
     ]
    }
   ],
   "source": [
    "# for every BRI country download data\n",
    "\n",
    "df_collection = []\n",
    "length = len(df_bri_matched.ptCode)\n",
    "\n",
    "for index,entry in enumerate(list(df_bri_matched.ptCode)):\n",
    "    temp_entry_name = list(df_bri_matched.BRI_Country)[index]\n",
    "    print(f\"Working on | {temp_entry_name} | {index+1}/{length} ({round(((index+1)/length)*100)}%)\")\n",
    "    \n",
    "    # run functions to extract\n",
    "    dl_year = \"2011\"\n",
    "    un_extract = un_ex.f_un_comtrade_data(p_r_country = [str(entry)],p_p_country = [\"all\"],p_ps_years=[dl_year],p_extra = extra_cc)\n",
    "    \n",
    "    try:\n",
    "        af_save.f_export(un_extract[0][0],f\"un_com_{temp_entry_name}_{dl_year}_ref\")\n",
    "        df_collection.append(un_extract[0][0])\n",
    "    except:\n",
    "        df_collection.append((\"Missing\",entry))"
   ]
  },
  {
   "cell_type": "code",
   "execution_count": null,
   "metadata": {},
   "outputs": [],
   "source": [
    "af_save.f_export(df_un_com_master,f\"un_com_master_ref\")"
   ]
  },
  {
   "cell_type": "code",
   "execution_count": 21,
   "metadata": {},
   "outputs": [],
   "source": [
    "df_un_com_master = pd.concat(df_collection)"
   ]
  },
  {
   "cell_type": "code",
   "execution_count": null,
   "metadata": {},
   "outputs": [],
   "source": []
  },
  {
   "cell_type": "code",
   "execution_count": null,
   "metadata": {},
   "outputs": [],
   "source": []
  },
  {
   "cell_type": "code",
   "execution_count": null,
   "metadata": {},
   "outputs": [],
   "source": []
  },
  {
   "cell_type": "code",
   "execution_count": null,
   "metadata": {},
   "outputs": [],
   "source": []
  },
  {
   "cell_type": "code",
   "execution_count": 72,
   "metadata": {},
   "outputs": [
    {
     "data": {
      "text/html": [
       "<div>\n",
       "<style scoped>\n",
       "    .dataframe tbody tr th:only-of-type {\n",
       "        vertical-align: middle;\n",
       "    }\n",
       "\n",
       "    .dataframe tbody tr th {\n",
       "        vertical-align: top;\n",
       "    }\n",
       "\n",
       "    .dataframe thead th {\n",
       "        text-align: right;\n",
       "    }\n",
       "</style>\n",
       "<table border=\"1\" class=\"dataframe\">\n",
       "  <thead>\n",
       "    <tr style=\"text-align: right;\">\n",
       "      <th></th>\n",
       "      <th>rtCode</th>\n",
       "      <th>rt3ISO</th>\n",
       "      <th>rtTitle</th>\n",
       "      <th>ptCode</th>\n",
       "      <th>pt3ISO</th>\n",
       "      <th>ptTitle</th>\n",
       "      <th>period</th>\n",
       "      <th>rgDesc</th>\n",
       "      <th>yr</th>\n",
       "      <th>rgCode</th>\n",
       "      <th>cmdCode</th>\n",
       "      <th>TradeValue</th>\n",
       "      <th>periodDesc</th>\n",
       "      <th>pfCode</th>\n",
       "      <th>cmdDescE</th>\n",
       "    </tr>\n",
       "  </thead>\n",
       "  <tbody>\n",
       "    <tr>\n",
       "      <th>0</th>\n",
       "      <td>8</td>\n",
       "      <td>ALB</td>\n",
       "      <td>Albania</td>\n",
       "      <td>0</td>\n",
       "      <td>WLD</td>\n",
       "      <td>World</td>\n",
       "      <td>2010</td>\n",
       "      <td>Import</td>\n",
       "      <td>2010</td>\n",
       "      <td>1</td>\n",
       "      <td>TOTAL</td>\n",
       "      <td>4602774967</td>\n",
       "      <td>2010</td>\n",
       "      <td>H3</td>\n",
       "      <td>All Commodities</td>\n",
       "    </tr>\n",
       "    <tr>\n",
       "      <th>1</th>\n",
       "      <td>8</td>\n",
       "      <td>ALB</td>\n",
       "      <td>Albania</td>\n",
       "      <td>0</td>\n",
       "      <td>WLD</td>\n",
       "      <td>World</td>\n",
       "      <td>2010</td>\n",
       "      <td>Export</td>\n",
       "      <td>2010</td>\n",
       "      <td>2</td>\n",
       "      <td>TOTAL</td>\n",
       "      <td>1549955724</td>\n",
       "      <td>2010</td>\n",
       "      <td>H3</td>\n",
       "      <td>All Commodities</td>\n",
       "    </tr>\n",
       "    <tr>\n",
       "      <th>2</th>\n",
       "      <td>8</td>\n",
       "      <td>ALB</td>\n",
       "      <td>Albania</td>\n",
       "      <td>0</td>\n",
       "      <td>WLD</td>\n",
       "      <td>World</td>\n",
       "      <td>2010</td>\n",
       "      <td>Re-Import</td>\n",
       "      <td>2010</td>\n",
       "      <td>4</td>\n",
       "      <td>TOTAL</td>\n",
       "      <td>26393</td>\n",
       "      <td>2010</td>\n",
       "      <td>H3</td>\n",
       "      <td>All Commodities</td>\n",
       "    </tr>\n",
       "    <tr>\n",
       "      <th>3</th>\n",
       "      <td>8</td>\n",
       "      <td>ALB</td>\n",
       "      <td>Albania</td>\n",
       "      <td>4</td>\n",
       "      <td>AFG</td>\n",
       "      <td>Afghanistan</td>\n",
       "      <td>2010</td>\n",
       "      <td>Import</td>\n",
       "      <td>2010</td>\n",
       "      <td>1</td>\n",
       "      <td>TOTAL</td>\n",
       "      <td>1862</td>\n",
       "      <td>2010</td>\n",
       "      <td>H3</td>\n",
       "      <td>All Commodities</td>\n",
       "    </tr>\n",
       "    <tr>\n",
       "      <th>4</th>\n",
       "      <td>8</td>\n",
       "      <td>ALB</td>\n",
       "      <td>Albania</td>\n",
       "      <td>4</td>\n",
       "      <td>AFG</td>\n",
       "      <td>Afghanistan</td>\n",
       "      <td>2010</td>\n",
       "      <td>Export</td>\n",
       "      <td>2010</td>\n",
       "      <td>2</td>\n",
       "      <td>TOTAL</td>\n",
       "      <td>1830</td>\n",
       "      <td>2010</td>\n",
       "      <td>H3</td>\n",
       "      <td>All Commodities</td>\n",
       "    </tr>\n",
       "  </tbody>\n",
       "</table>\n",
       "</div>"
      ],
      "text/plain": [
       "   rtCode rt3ISO  rtTitle  ptCode pt3ISO      ptTitle  period     rgDesc  \\\n",
       "0       8    ALB  Albania       0    WLD        World    2010     Import   \n",
       "1       8    ALB  Albania       0    WLD        World    2010     Export   \n",
       "2       8    ALB  Albania       0    WLD        World    2010  Re-Import   \n",
       "3       8    ALB  Albania       4    AFG  Afghanistan    2010     Import   \n",
       "4       8    ALB  Albania       4    AFG  Afghanistan    2010     Export   \n",
       "\n",
       "     yr  rgCode cmdCode  TradeValue periodDesc pfCode         cmdDescE  \n",
       "0  2010       1   TOTAL  4602774967       2010     H3  All Commodities  \n",
       "1  2010       2   TOTAL  1549955724       2010     H3  All Commodities  \n",
       "2  2010       4   TOTAL       26393       2010     H3  All Commodities  \n",
       "3  2010       1   TOTAL        1862       2010     H3  All Commodities  \n",
       "4  2010       2   TOTAL        1830       2010     H3  All Commodities  "
      ]
     },
     "execution_count": 72,
     "metadata": {},
     "output_type": "execute_result"
    }
   ],
   "source": [
    "            # Partner / reporter info (6)\n",
    "columns =   [\"rtCode\",\"rt3ISO\",\"rtTitle\",\"ptCode\",\"pt3ISO\",\"ptTitle\",\n",
    "             # period and trade category and value information (3)\n",
    "             \"period\",\"rgDesc\",\"yr\",\n",
    "             \n",
    "             # duplicate info? (6)\n",
    "             \"rgCode\",\"cmdCode\",\"TradeValue\",\"periodDesc\",\"pfCode\",\"cmdDescE\"]\n",
    "\n",
    "df_un_com_focused = df_un_com_master.loc[:,columns]\n",
    "df_un_com_focused.head()"
   ]
  },
  {
   "cell_type": "code",
   "execution_count": 76,
   "metadata": {},
   "outputs": [],
   "source": [
    "# save year specific data frame\n",
    "af_save.f_export(df_un_com_focused,f\"un_com_{df_un_com_focused.yr.unique()[0]}_merged_ref\")"
   ]
  },
  {
   "cell_type": "markdown",
   "metadata": {},
   "source": [
    "<a id=\"ID_part5\"></a>\n",
    "### Part 5\n",
    "|| [0|Top](#ID_top) || [1|Part1](#ID_part1) || [2|Part2](#ID_part2) || [3|Part3](#ID_part3) || [4|Part4](#ID_part4) || [5|Part5](#ID_part5) ||"
   ]
  }
 ],
 "metadata": {
  "kernelspec": {
   "display_name": "Python 3",
   "language": "python",
   "name": "python3"
  },
  "language_info": {
   "codemirror_mode": {
    "name": "ipython",
    "version": 3
   },
   "file_extension": ".py",
   "mimetype": "text/x-python",
   "name": "python",
   "nbconvert_exporter": "python",
   "pygments_lexer": "ipython3",
   "version": "3.7.4"
  }
 },
 "nbformat": 4,
 "nbformat_minor": 2
}
