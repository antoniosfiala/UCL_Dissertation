{
 "cells": [
  {
   "cell_type": "markdown",
   "metadata": {},
   "source": [
    "<a id=\"ID_top\"></a>\n",
    "## Working country selection\n",
    "\n",
    "This workflow processes and outputs list of countries to be used in other analysis.\n",
    "\n",
    "Use the three letter iso code as a standard to link them together, i.e. \"GBR\""
   ]
  },
  {
   "cell_type": "markdown",
   "metadata": {},
   "source": [
    "#### load other scripts with \n",
    "`%load script_filepaths.py`"
   ]
  },
  {
   "cell_type": "markdown",
   "metadata": {},
   "source": [
    "#### Notebook sections:\n",
    "    \n",
    "|| [0|Top](#ID_top) || [1|Part1](#ID_part1) || [2|Part2](#ID_part2) || [3|Part3](#ID_part3) || [4|Part4](#ID_part4) || [5|Part5](#ID_part5) ||"
   ]
  },
  {
   "cell_type": "code",
   "execution_count": 7,
   "metadata": {},
   "outputs": [],
   "source": [
    "#=== Packages\n",
    "import pandas as pd\n",
    "import numpy  as np\n",
    "import os"
   ]
  },
  {
   "cell_type": "markdown",
   "metadata": {},
   "source": [
    "<a id=\"ID_part1\"></a>\n",
    "### Part 1 | Load data\n",
    "|| [0|Top](#ID_top) || [1|Part1](#ID_part1) || [2|Part2](#ID_part2) || [3|Part3](#ID_part3) || [4|Part4](#ID_part4) || [5|Part5](#ID_part5) ||"
   ]
  },
  {
   "cell_type": "code",
   "execution_count": 9,
   "metadata": {},
   "outputs": [],
   "source": [
    "# %load script_filepaths.py\n",
    "# This script allows one to load and correct raw files before saving them again.\n",
    "file_path_0_raw       = \"./0_raw/\"\n",
    "file_path_1_backup    = \"./1_raw_processed_backup/\"\n",
    "file_path_2_input     = \"./2_raw_processed_input/\"\n",
    "file_path_3_generated = \"./3_generated_inputs/\""
   ]
  },
  {
   "cell_type": "code",
   "execution_count": 10,
   "metadata": {},
   "outputs": [
    {
     "name": "stdout",
     "output_type": "stream",
     "text": [
      "['2_raw_explainer_doc.md', 'input_dynamic_gravity.csv.gzip']\n"
     ]
    }
   ],
   "source": [
    "# list of all files\n",
    "filenames = os.listdir(file_path_2_input)\n",
    "print(filenames)\n",
    "\n",
    "# list of file names that can be read with same rule\n",
    "file_to_batch_read = [filenames[1]]"
   ]
  },
  {
   "cell_type": "code",
   "execution_count": 11,
   "metadata": {},
   "outputs": [],
   "source": [
    "# load data\n",
    "df_05_16 = pd.read_csv(f\"{file_path_2_input}{file_to_batch_read[0]}\",compression= \"gzip\")"
   ]
  },
  {
   "cell_type": "code",
   "execution_count": 13,
   "metadata": {},
   "outputs": [
    {
     "name": "stdout",
     "output_type": "stream",
     "text": [
      "Index(['Unnamed: 0', 'year', 'country_d', 'iso3_d', 'dynamic_code_d',\n",
      "       'landlocked_d', 'island_d', 'region_d', 'gdp_pwt_const_d', 'pop_d',\n",
      "       'gdp_pwt_cur_d', 'capital_cur_d', 'capital_const_d', 'gdp_wdi_cur_d',\n",
      "       'gdp_wdi_const_d', 'gdp_wdi_cap_cur_d', 'gdp_wdi_cap_const_d', 'lat_d',\n",
      "       'lng_d', 'polity_d', 'polity_abs_d', 'country_o', 'iso3_o',\n",
      "       'dynamic_code_o', 'landlocked_o', 'island_o', 'region_o',\n",
      "       'gdp_pwt_const_o', 'pop_o', 'gdp_pwt_cur_o', 'capital_cur_o',\n",
      "       'capital_const_o', 'gdp_wdi_cur_o', 'gdp_wdi_const_o',\n",
      "       'gdp_wdi_cap_cur_o', 'gdp_wdi_cap_const_o', 'lat_o', 'lng_o',\n",
      "       'polity_o', 'polity_abs_o', 'contiguity', 'agree_pta_goods',\n",
      "       'agree_pta_services', 'agree_cu', 'agree_eia', 'agree_fta', 'agree_psa',\n",
      "       'agree_pta', 'sanction_threat', 'sanction_threat_trade',\n",
      "       'sanction_imposition', 'sanction_imposition_trade', 'member_eu_o',\n",
      "       'member_wto_o', 'member_gatt_o', 'member_eu_d', 'member_wto_d',\n",
      "       'member_gatt_d', 'member_eu_joint', 'member_wto_joint',\n",
      "       'member_gatt_joint', 'hostility_level_o', 'hostility_level_d',\n",
      "       'distance', 'common_language', 'colony_of_destination_after45',\n",
      "       'colony_of_destination_current', 'colony_of_destination_ever',\n",
      "       'colony_of_origin_after45', 'colony_of_origin_current',\n",
      "       'colony_of_origin_ever'],\n",
      "      dtype='object')\n"
     ]
    },
    {
     "data": {
      "text/html": [
       "<div>\n",
       "<style scoped>\n",
       "    .dataframe tbody tr th:only-of-type {\n",
       "        vertical-align: middle;\n",
       "    }\n",
       "\n",
       "    .dataframe tbody tr th {\n",
       "        vertical-align: top;\n",
       "    }\n",
       "\n",
       "    .dataframe thead th {\n",
       "        text-align: right;\n",
       "    }\n",
       "</style>\n",
       "<table border=\"1\" class=\"dataframe\">\n",
       "  <thead>\n",
       "    <tr style=\"text-align: right;\">\n",
       "      <th></th>\n",
       "      <th>Unnamed: 0</th>\n",
       "      <th>year</th>\n",
       "      <th>country_d</th>\n",
       "      <th>iso3_d</th>\n",
       "      <th>dynamic_code_d</th>\n",
       "      <th>landlocked_d</th>\n",
       "      <th>island_d</th>\n",
       "      <th>region_d</th>\n",
       "      <th>gdp_pwt_const_d</th>\n",
       "      <th>pop_d</th>\n",
       "      <th>...</th>\n",
       "      <th>hostility_level_o</th>\n",
       "      <th>hostility_level_d</th>\n",
       "      <th>distance</th>\n",
       "      <th>common_language</th>\n",
       "      <th>colony_of_destination_after45</th>\n",
       "      <th>colony_of_destination_current</th>\n",
       "      <th>colony_of_destination_ever</th>\n",
       "      <th>colony_of_origin_after45</th>\n",
       "      <th>colony_of_origin_current</th>\n",
       "      <th>colony_of_origin_ever</th>\n",
       "    </tr>\n",
       "  </thead>\n",
       "  <tbody>\n",
       "    <tr>\n",
       "      <th>0</th>\n",
       "      <td>0</td>\n",
       "      <td>2005</td>\n",
       "      <td>Aruba</td>\n",
       "      <td>ABW</td>\n",
       "      <td>ABW</td>\n",
       "      <td>0</td>\n",
       "      <td>1</td>\n",
       "      <td>caribbean</td>\n",
       "      <td>3906.5203</td>\n",
       "      <td>0.100031</td>\n",
       "      <td>...</td>\n",
       "      <td>0</td>\n",
       "      <td>0</td>\n",
       "      <td>120.05867</td>\n",
       "      <td>1</td>\n",
       "      <td>0</td>\n",
       "      <td>0</td>\n",
       "      <td>0</td>\n",
       "      <td>0</td>\n",
       "      <td>0</td>\n",
       "      <td>0</td>\n",
       "    </tr>\n",
       "    <tr>\n",
       "      <th>1</th>\n",
       "      <td>1</td>\n",
       "      <td>2006</td>\n",
       "      <td>Aruba</td>\n",
       "      <td>ABW</td>\n",
       "      <td>ABW</td>\n",
       "      <td>0</td>\n",
       "      <td>1</td>\n",
       "      <td>caribbean</td>\n",
       "      <td>4118.1396</td>\n",
       "      <td>0.100830</td>\n",
       "      <td>...</td>\n",
       "      <td>0</td>\n",
       "      <td>0</td>\n",
       "      <td>978.77728</td>\n",
       "      <td>1</td>\n",
       "      <td>0</td>\n",
       "      <td>0</td>\n",
       "      <td>0</td>\n",
       "      <td>0</td>\n",
       "      <td>0</td>\n",
       "      <td>0</td>\n",
       "    </tr>\n",
       "    <tr>\n",
       "      <th>2</th>\n",
       "      <td>2</td>\n",
       "      <td>2007</td>\n",
       "      <td>Aruba</td>\n",
       "      <td>ABW</td>\n",
       "      <td>ABW</td>\n",
       "      <td>0</td>\n",
       "      <td>1</td>\n",
       "      <td>caribbean</td>\n",
       "      <td>4196.4634</td>\n",
       "      <td>0.101218</td>\n",
       "      <td>...</td>\n",
       "      <td>0</td>\n",
       "      <td>0</td>\n",
       "      <td>8563.69630</td>\n",
       "      <td>0</td>\n",
       "      <td>0</td>\n",
       "      <td>0</td>\n",
       "      <td>0</td>\n",
       "      <td>0</td>\n",
       "      <td>0</td>\n",
       "      <td>0</td>\n",
       "    </tr>\n",
       "    <tr>\n",
       "      <th>3</th>\n",
       "      <td>3</td>\n",
       "      <td>2008</td>\n",
       "      <td>Aruba</td>\n",
       "      <td>ABW</td>\n",
       "      <td>ABW</td>\n",
       "      <td>0</td>\n",
       "      <td>1</td>\n",
       "      <td>caribbean</td>\n",
       "      <td>4433.6772</td>\n",
       "      <td>0.101342</td>\n",
       "      <td>...</td>\n",
       "      <td>0</td>\n",
       "      <td>0</td>\n",
       "      <td>7562.67330</td>\n",
       "      <td>0</td>\n",
       "      <td>0</td>\n",
       "      <td>0</td>\n",
       "      <td>0</td>\n",
       "      <td>0</td>\n",
       "      <td>0</td>\n",
       "      <td>0</td>\n",
       "    </tr>\n",
       "    <tr>\n",
       "      <th>4</th>\n",
       "      <td>4</td>\n",
       "      <td>2009</td>\n",
       "      <td>Aruba</td>\n",
       "      <td>ABW</td>\n",
       "      <td>ABW</td>\n",
       "      <td>0</td>\n",
       "      <td>1</td>\n",
       "      <td>caribbean</td>\n",
       "      <td>4183.0449</td>\n",
       "      <td>0.101416</td>\n",
       "      <td>...</td>\n",
       "      <td>0</td>\n",
       "      <td>0</td>\n",
       "      <td>16904.59600</td>\n",
       "      <td>1</td>\n",
       "      <td>0</td>\n",
       "      <td>0</td>\n",
       "      <td>0</td>\n",
       "      <td>0</td>\n",
       "      <td>0</td>\n",
       "      <td>0</td>\n",
       "    </tr>\n",
       "  </tbody>\n",
       "</table>\n",
       "<p>5 rows × 71 columns</p>\n",
       "</div>"
      ],
      "text/plain": [
       "   Unnamed: 0  year country_d iso3_d dynamic_code_d  landlocked_d  island_d  \\\n",
       "0           0  2005     Aruba    ABW            ABW             0         1   \n",
       "1           1  2006     Aruba    ABW            ABW             0         1   \n",
       "2           2  2007     Aruba    ABW            ABW             0         1   \n",
       "3           3  2008     Aruba    ABW            ABW             0         1   \n",
       "4           4  2009     Aruba    ABW            ABW             0         1   \n",
       "\n",
       "    region_d  gdp_pwt_const_d     pop_d          ...            \\\n",
       "0  caribbean        3906.5203  0.100031          ...             \n",
       "1  caribbean        4118.1396  0.100830          ...             \n",
       "2  caribbean        4196.4634  0.101218          ...             \n",
       "3  caribbean        4433.6772  0.101342          ...             \n",
       "4  caribbean        4183.0449  0.101416          ...             \n",
       "\n",
       "   hostility_level_o  hostility_level_d     distance  common_language  \\\n",
       "0                  0                  0    120.05867                1   \n",
       "1                  0                  0    978.77728                1   \n",
       "2                  0                  0   8563.69630                0   \n",
       "3                  0                  0   7562.67330                0   \n",
       "4                  0                  0  16904.59600                1   \n",
       "\n",
       "   colony_of_destination_after45  colony_of_destination_current  \\\n",
       "0                              0                              0   \n",
       "1                              0                              0   \n",
       "2                              0                              0   \n",
       "3                              0                              0   \n",
       "4                              0                              0   \n",
       "\n",
       "   colony_of_destination_ever  colony_of_origin_after45  \\\n",
       "0                           0                         0   \n",
       "1                           0                         0   \n",
       "2                           0                         0   \n",
       "3                           0                         0   \n",
       "4                           0                         0   \n",
       "\n",
       "   colony_of_origin_current  colony_of_origin_ever  \n",
       "0                         0                      0  \n",
       "1                         0                      0  \n",
       "2                         0                      0  \n",
       "3                         0                      0  \n",
       "4                         0                      0  \n",
       "\n",
       "[5 rows x 71 columns]"
      ]
     },
     "execution_count": 13,
     "metadata": {},
     "output_type": "execute_result"
    }
   ],
   "source": [
    "# preview\n",
    "print(df_05_16.columns)\n",
    "df_05_16.head()"
   ]
  },
  {
   "cell_type": "markdown",
   "metadata": {},
   "source": [
    "<a id=\"ID_part2\"></a>\n",
    "### Part 2 | Generate ref country table\n",
    "|| [0|Top](#ID_top) || [1|Part1](#ID_part1) || [2|Part2](#ID_part2) || [3|Part3](#ID_part3) || [4|Part4](#ID_part4) || [5|Part5](#ID_part5) ||"
   ]
  },
  {
   "cell_type": "code",
   "execution_count": 25,
   "metadata": {},
   "outputs": [],
   "source": [
    "# loop through columns and isolate all '_d' columns\n",
    "col_index_keep = [1] # 1 is the year column\n",
    "\n",
    "for index,column in enumerate(list(df_05_16.columns)):\n",
    "    # isolate last two letters of a column name\n",
    "    temp_string = column[-2:]\n",
    "    \n",
    "    if temp_string == \"_d\":\n",
    "        col_index_keep.append(index)\n",
    "    else:\n",
    "        pass"
   ]
  },
  {
   "cell_type": "code",
   "execution_count": 28,
   "metadata": {
    "scrolled": false
   },
   "outputs": [],
   "source": [
    "# create unique reference table\n",
    "df_master_country = df_05_16.iloc[:,col_index_keep].drop_duplicates()"
   ]
  },
  {
   "cell_type": "markdown",
   "metadata": {},
   "source": [
    "<a id=\"ID_part3\"></a>\n",
    "### Part 3\n",
    "|| [0|Top](#ID_top) || [1|Part1](#ID_part1) || [2|Part2](#ID_part2) || [3|Part3](#ID_part3) || [4|Part4](#ID_part4) || [5|Part5](#ID_part5) ||"
   ]
  },
  {
   "cell_type": "code",
   "execution_count": null,
   "metadata": {},
   "outputs": [],
   "source": []
  },
  {
   "cell_type": "markdown",
   "metadata": {},
   "source": [
    "<a id=\"ID_part4\"></a>\n",
    "### Part 4 | Export master ref table\n",
    "|| [0|Top](#ID_top) || [1|Part1](#ID_part1) || [2|Part2](#ID_part2) || [3|Part3](#ID_part3) || [4|Part4](#ID_part4) || [5|Part5](#ID_part5) ||"
   ]
  },
  {
   "cell_type": "code",
   "execution_count": null,
   "metadata": {},
   "outputs": [],
   "source": [
    "compression_type = \"gzip\""
   ]
  },
  {
   "cell_type": "code",
   "execution_count": 29,
   "metadata": {},
   "outputs": [],
   "source": [
    "# Master list export\n",
    "file_name = \"generated_master_country_ref_list.csv\"\n",
    "df_master_country.to_csv(file_path_3_generated+file_name+\".\"+compression_type,compression = compression_type)"
   ]
  },
  {
   "cell_type": "code",
   "execution_count": null,
   "metadata": {},
   "outputs": [],
   "source": [
    "# Sample / working sample list export\n",
    "file_name = \"generated_sample_countries.csv\"\n",
    "df_master_country.to_csv(file_path_3_generated+file_name+\".\"+compression_type,compression = compression_type)"
   ]
  },
  {
   "cell_type": "markdown",
   "metadata": {},
   "source": [
    "<a id=\"ID_part5\"></a>\n",
    "### Part 5\n",
    "|| [0|Top](#ID_top) || [1|Part1](#ID_part1) || [2|Part2](#ID_part2) || [3|Part3](#ID_part3) || [4|Part4](#ID_part4) || [5|Part5](#ID_part5) ||"
   ]
  }
 ],
 "metadata": {
  "kernelspec": {
   "display_name": "Python 3",
   "language": "python",
   "name": "python3"
  },
  "language_info": {
   "codemirror_mode": {
    "name": "ipython",
    "version": 3
   },
   "file_extension": ".py",
   "mimetype": "text/x-python",
   "name": "python",
   "nbconvert_exporter": "python",
   "pygments_lexer": "ipython3",
   "version": "3.7.4"
  }
 },
 "nbformat": 4,
 "nbformat_minor": 2
}
