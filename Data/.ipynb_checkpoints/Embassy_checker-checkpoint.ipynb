{
 "cells": [
  {
   "cell_type": "markdown",
   "metadata": {},
   "source": [
    "#### Library import"
   ]
  },
  {
   "cell_type": "code",
   "execution_count": 1,
   "metadata": {},
   "outputs": [],
   "source": [
    "#urllib needed to fetch urls and threading needed for timer\n",
    "import urllib3\n",
    "urllib3.disable_warnings()\n",
    "from bs4 import BeautifulSoup\n",
    "import re"
   ]
  },
  {
   "cell_type": "markdown",
   "metadata": {},
   "source": [
    "#### Functions"
   ]
  },
  {
   "cell_type": "code",
   "execution_count": 10,
   "metadata": {},
   "outputs": [],
   "source": [
    "# create function\n",
    "def f_web_read(p_url,p_tag,p_name,p_value):\n",
    "    \n",
    "    http = urllib3.PoolManager()\n",
    "    response = http.request('GET', p_url)\n",
    "    \n",
    "    soup = BeautifulSoup(response.data)\n",
    "    soup_find = soup.findAll(p_tag, attrs = {p_name:p_value})\n",
    "    \n",
    "    return [soup,soup_find]\n",
    "\n",
    "# look for zeroes\n",
    "def f_zero_search(p_url_return,p_search = \"1\"):\n",
    "    \n",
    "    find_counter = 0\n",
    "\n",
    "    for entry in p_url_return[1]:\n",
    "        #print(entry)\n",
    "        numbers = re.findall(\"\\d+\", str(entry))\n",
    "        #print(numbers)\n",
    "\n",
    "        if p_search in numbers:\n",
    "            #print(\"FOUND!\")\n",
    "            find_counter += 1\n",
    "        else:\n",
    "            #print(\"NOT FOUND\")\n",
    "            pass\n",
    "\n",
    "    if find_counter == 0:\n",
    "        print(\"Nothing to see here\")\n",
    "    else:\n",
    "        print(\"FOUND SOMETHING!\")"
   ]
  },
  {
   "cell_type": "markdown",
   "metadata": {},
   "source": [
    "#### URLs"
   ]
  },
  {
   "cell_type": "code",
   "execution_count": 3,
   "metadata": {},
   "outputs": [],
   "source": [
    "# URLs\n",
    "url_list = [\"https://www.greekembassy.org.uk/en-gb/Reservations/ctl/ViewAvailability/mid/484/List/ViewAvailabilityListSettings\",\n",
    "            \"https://www.greekembassy.org.uk/en-gb/Reservations/ctl/ViewAvailability/mid/484/List/ViewAvailabilityListSettings/SortColumnList/CategoryName/Printable/True?SkinSrc=//Portals/_default/Skins/_default/No%20Skin&ContainerSrc=//Portals/_default/Containers/_default/No%20Container\"\n",
    "           ]"
   ]
  },
  {
   "cell_type": "markdown",
   "metadata": {},
   "source": [
    "#### Processing"
   ]
  },
  {
   "cell_type": "code",
   "execution_count": 13,
   "metadata": {},
   "outputs": [
    {
     "name": "stdout",
     "output_type": "stream",
     "text": [
      "URL 0 | td\treport\t|  8\n",
      "URL 0 | div\treport\t|  8\n",
      "Nothing to see here\n",
      "\n",
      "URL 1 | td\treport\t|  8\n",
      "URL 1 | div\treport\t|  8\n",
      "Nothing to see here\n",
      "\n"
     ]
    }
   ],
   "source": [
    "for index,url in enumerate(url_list):\n",
    "    \n",
    "    # td search\n",
    "    url_return = f_web_read(url,\"td\",\"class\",\"DNNSpecialists_Modules_Reservations_DataGrid_Availability_ItemStyle\")\n",
    "    print(f\"URL {index} | td\\treport\\t| \",len(url_return[1]))\n",
    "    \n",
    "    # div search\n",
    "    url_return = f_web_read(url,\"div\",\"title\",\"0\")\n",
    "    print(f\"URL {index} | div\\treport\\t| \",len(url_return[1]))\n",
    "    \n",
    "    # search for non zero values\n",
    "    f_zero_search(url_return)\n",
    "    print(\"\")"
   ]
  }
 ],
 "metadata": {
  "kernelspec": {
   "display_name": "Python 3",
   "language": "python",
   "name": "python3"
  },
  "language_info": {
   "codemirror_mode": {
    "name": "ipython",
    "version": 3
   },
   "file_extension": ".py",
   "mimetype": "text/x-python",
   "name": "python",
   "nbconvert_exporter": "python",
   "pygments_lexer": "ipython3",
   "version": "3.7.4"
  }
 },
 "nbformat": 4,
 "nbformat_minor": 2
}
