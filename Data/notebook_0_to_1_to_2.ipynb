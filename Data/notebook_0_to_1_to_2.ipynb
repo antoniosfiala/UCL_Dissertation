{
 "cells": [
  {
   "cell_type": "markdown",
   "metadata": {},
   "source": [
    "<a id=\"ID_top\"></a>\n",
    "## Raw data script\n",
    "\n",
    "Takes files from `./0_raw/` repository and allows small bits of cleaning or correction and documentation of errors before saving into:\n",
    "- `./1_raw_processed_backup/` with version control\n",
    "- `./2_raw_processed_input/` to store the version to be used for live analysis in other scripts\n",
    "\n",
    "**Last change:** 16.06.2020"
   ]
  },
  {
   "cell_type": "markdown",
   "metadata": {},
   "source": [
    "#### Code sections:\n",
    "    \n",
    "|| [0|Top](#ID_top) || [1|Filepaths](#ID_paths) || [2|Filenames](#ID_names) || [3|Load](#ID_load) || [4|Correct](#ID_correct) || [5|Export](#ID_export) ||"
   ]
  },
  {
   "cell_type": "code",
   "execution_count": 1,
   "metadata": {},
   "outputs": [],
   "source": [
    "#=== working with external files\n",
    "# this function saves the content of a cell to the file, it silently overwrites any content in existing files\n",
    "#%%writefile script_0_to_1.py\n",
    "\n",
    "# this function loads the content of a file into a cell\n",
    "#%load script_0_to_1.py"
   ]
  },
  {
   "cell_type": "code",
   "execution_count": 1,
   "metadata": {},
   "outputs": [],
   "source": [
    "# package to get all file names in directory\n",
    "import os\n",
    "from shutil import copyfile\n",
    "from shutil import make_archive\n",
    "import zipfile\n",
    "# create dataframes\n",
    "import pandas as pd\n",
    "# dynamic versioning\n",
    "from datetime import datetime"
   ]
  },
  {
   "cell_type": "markdown",
   "metadata": {},
   "source": [
    "<a id=\"ID_paths\"></a>\n",
    "### Filepaths\n",
    "|| [0|Top](#ID_top) || [1|Filepaths](#ID_paths) || [2|Filenames](#ID_names) || [3|Load](#ID_load) || [4|Correct](#ID_correct) || [5|Export](#ID_export) ||"
   ]
  },
  {
   "cell_type": "code",
   "execution_count": 2,
   "metadata": {},
   "outputs": [],
   "source": [
    "# This script allows one to load and correct raw files before saving them again.\n",
    "\n",
    "file_path_0_raw = \"./0_raw/\"\n",
    "file_path_1_backup = \"./1_raw_processed_backup/\"\n",
    "file_path_2_input = \"./2_raw_processed_input/\""
   ]
  },
  {
   "cell_type": "markdown",
   "metadata": {},
   "source": [
    "<a id=\"ID_names\"></a>\n",
    "### Filenames\n",
    "\n",
    "|| [0|Top](#ID_top) || [1|Filepaths](#ID_paths) || [2|Filenames](#ID_names) || [3|Load](#ID_load) || [4|Correct](#ID_correct) || [5|Export](#ID_export) ||"
   ]
  },
  {
   "cell_type": "code",
   "execution_count": 3,
   "metadata": {},
   "outputs": [
    {
     "name": "stdout",
     "output_type": "stream",
     "text": [
      "['0_raw_explainer_doc.md', 'WIOT2014_Nov16_ROW.xlsb', 'release_1.0_2005_2016.csv.zip', 'China-multi-regional-input-output-MRIO-table-2012.xlsx']\n"
     ]
    }
   ],
   "source": [
    "# list of all files\n",
    "filenames = os.listdir(file_path_0_raw)\n",
    "print(filenames)\n",
    "\n",
    "# list of file names that can be read with same rule\n",
    "file_to_batch_read = [filenames[2]]"
   ]
  },
  {
   "cell_type": "markdown",
   "metadata": {},
   "source": [
    "<a id=\"ID_load\"></a>\n",
    "### Load\n",
    "\n",
    "|| [0|Top](#ID_top) || [1|Filepaths](#ID_paths) || [2|Filenames](#ID_names) || [3|Load](#ID_load) || [4|Correct](#ID_correct) || [5|Export](#ID_export) ||"
   ]
  },
  {
   "cell_type": "code",
   "execution_count": 4,
   "metadata": {},
   "outputs": [
    {
     "name": "stdout",
     "output_type": "stream",
     "text": [
      "Processing | ./0_raw/release_1.0_2005_2016.csv.zip ...\n",
      "...done\n"
     ]
    }
   ],
   "source": [
    "# list of datasets\n",
    "dataset_list = []\n",
    "\n",
    "# load files in batch\n",
    "for file in file_to_batch_read:\n",
    "    print(f\"Processing | {file_path_0_raw}{file} ...\")\n",
    "    \n",
    "    # read zip file and make sure only first file is passed on\n",
    "    temp_zf = zipfile.ZipFile(f\"{file_path_0_raw}{file}\")    \n",
    "    #temp_read = pd.read_csv(f\"{file_path_0_raw}{temp_zf_first}\")\n",
    "    temp_read = pd.read_csv(temp_zf.open(zipfile.ZipFile.namelist(temp_zf)[0]))\n",
    "    dataset_list.append(temp_read)\n",
    "    print(f\"...done\")"
   ]
  },
  {
   "cell_type": "markdown",
   "metadata": {},
   "source": [
    "<a id=\"ID_correct\"></a>\n",
    "### Correct\n",
    "\n",
    "|| [0|Top](#ID_top) || [1|Filepaths](#ID_paths) || [2|Filenames](#ID_names) || [3|Load](#ID_load) || [4|Correct](#ID_correct) || [5|Export](#ID_export) ||"
   ]
  },
  {
   "cell_type": "code",
   "execution_count": 5,
   "metadata": {},
   "outputs": [
    {
     "data": {
      "text/html": [
       "<div>\n",
       "<style scoped>\n",
       "    .dataframe tbody tr th:only-of-type {\n",
       "        vertical-align: middle;\n",
       "    }\n",
       "\n",
       "    .dataframe tbody tr th {\n",
       "        vertical-align: top;\n",
       "    }\n",
       "\n",
       "    .dataframe thead th {\n",
       "        text-align: right;\n",
       "    }\n",
       "</style>\n",
       "<table border=\"1\" class=\"dataframe\">\n",
       "  <thead>\n",
       "    <tr style=\"text-align: right;\">\n",
       "      <th></th>\n",
       "      <th>year</th>\n",
       "      <th>country_d</th>\n",
       "      <th>iso3_d</th>\n",
       "      <th>dynamic_code_d</th>\n",
       "      <th>landlocked_d</th>\n",
       "      <th>island_d</th>\n",
       "      <th>region_d</th>\n",
       "      <th>gdp_pwt_const_d</th>\n",
       "      <th>pop_d</th>\n",
       "      <th>gdp_pwt_cur_d</th>\n",
       "      <th>...</th>\n",
       "      <th>hostility_level_o</th>\n",
       "      <th>hostility_level_d</th>\n",
       "      <th>distance</th>\n",
       "      <th>common_language</th>\n",
       "      <th>colony_of_destination_after45</th>\n",
       "      <th>colony_of_destination_current</th>\n",
       "      <th>colony_of_destination_ever</th>\n",
       "      <th>colony_of_origin_after45</th>\n",
       "      <th>colony_of_origin_current</th>\n",
       "      <th>colony_of_origin_ever</th>\n",
       "    </tr>\n",
       "  </thead>\n",
       "  <tbody>\n",
       "    <tr>\n",
       "      <th>0</th>\n",
       "      <td>2005</td>\n",
       "      <td>Aruba</td>\n",
       "      <td>ABW</td>\n",
       "      <td>ABW</td>\n",
       "      <td>0</td>\n",
       "      <td>1</td>\n",
       "      <td>caribbean</td>\n",
       "      <td>3906.5203</td>\n",
       "      <td>0.100031</td>\n",
       "      <td>4093.2434</td>\n",
       "      <td>...</td>\n",
       "      <td>0</td>\n",
       "      <td>0</td>\n",
       "      <td>120.05867</td>\n",
       "      <td>1</td>\n",
       "      <td>0</td>\n",
       "      <td>0</td>\n",
       "      <td>0</td>\n",
       "      <td>0</td>\n",
       "      <td>0</td>\n",
       "      <td>0</td>\n",
       "    </tr>\n",
       "    <tr>\n",
       "      <th>1</th>\n",
       "      <td>2006</td>\n",
       "      <td>Aruba</td>\n",
       "      <td>ABW</td>\n",
       "      <td>ABW</td>\n",
       "      <td>0</td>\n",
       "      <td>1</td>\n",
       "      <td>caribbean</td>\n",
       "      <td>4118.1396</td>\n",
       "      <td>0.100830</td>\n",
       "      <td>4217.0669</td>\n",
       "      <td>...</td>\n",
       "      <td>0</td>\n",
       "      <td>0</td>\n",
       "      <td>978.77728</td>\n",
       "      <td>1</td>\n",
       "      <td>0</td>\n",
       "      <td>0</td>\n",
       "      <td>0</td>\n",
       "      <td>0</td>\n",
       "      <td>0</td>\n",
       "      <td>0</td>\n",
       "    </tr>\n",
       "    <tr>\n",
       "      <th>2</th>\n",
       "      <td>2007</td>\n",
       "      <td>Aruba</td>\n",
       "      <td>ABW</td>\n",
       "      <td>ABW</td>\n",
       "      <td>0</td>\n",
       "      <td>1</td>\n",
       "      <td>caribbean</td>\n",
       "      <td>4196.4634</td>\n",
       "      <td>0.101218</td>\n",
       "      <td>4248.4707</td>\n",
       "      <td>...</td>\n",
       "      <td>0</td>\n",
       "      <td>0</td>\n",
       "      <td>8563.69630</td>\n",
       "      <td>0</td>\n",
       "      <td>0</td>\n",
       "      <td>0</td>\n",
       "      <td>0</td>\n",
       "      <td>0</td>\n",
       "      <td>0</td>\n",
       "      <td>0</td>\n",
       "    </tr>\n",
       "    <tr>\n",
       "      <th>3</th>\n",
       "      <td>2008</td>\n",
       "      <td>Aruba</td>\n",
       "      <td>ABW</td>\n",
       "      <td>ABW</td>\n",
       "      <td>0</td>\n",
       "      <td>1</td>\n",
       "      <td>caribbean</td>\n",
       "      <td>4433.6772</td>\n",
       "      <td>0.101342</td>\n",
       "      <td>4441.8828</td>\n",
       "      <td>...</td>\n",
       "      <td>0</td>\n",
       "      <td>0</td>\n",
       "      <td>7562.67330</td>\n",
       "      <td>0</td>\n",
       "      <td>0</td>\n",
       "      <td>0</td>\n",
       "      <td>0</td>\n",
       "      <td>0</td>\n",
       "      <td>0</td>\n",
       "      <td>0</td>\n",
       "    </tr>\n",
       "    <tr>\n",
       "      <th>4</th>\n",
       "      <td>2009</td>\n",
       "      <td>Aruba</td>\n",
       "      <td>ABW</td>\n",
       "      <td>ABW</td>\n",
       "      <td>0</td>\n",
       "      <td>1</td>\n",
       "      <td>caribbean</td>\n",
       "      <td>4183.0449</td>\n",
       "      <td>0.101416</td>\n",
       "      <td>4304.9224</td>\n",
       "      <td>...</td>\n",
       "      <td>0</td>\n",
       "      <td>0</td>\n",
       "      <td>16904.59600</td>\n",
       "      <td>1</td>\n",
       "      <td>0</td>\n",
       "      <td>0</td>\n",
       "      <td>0</td>\n",
       "      <td>0</td>\n",
       "      <td>0</td>\n",
       "      <td>0</td>\n",
       "    </tr>\n",
       "  </tbody>\n",
       "</table>\n",
       "<p>5 rows × 70 columns</p>\n",
       "</div>"
      ],
      "text/plain": [
       "   year country_d iso3_d dynamic_code_d  landlocked_d  island_d   region_d  \\\n",
       "0  2005     Aruba    ABW            ABW             0         1  caribbean   \n",
       "1  2006     Aruba    ABW            ABW             0         1  caribbean   \n",
       "2  2007     Aruba    ABW            ABW             0         1  caribbean   \n",
       "3  2008     Aruba    ABW            ABW             0         1  caribbean   \n",
       "4  2009     Aruba    ABW            ABW             0         1  caribbean   \n",
       "\n",
       "   gdp_pwt_const_d     pop_d  gdp_pwt_cur_d          ...            \\\n",
       "0        3906.5203  0.100031      4093.2434          ...             \n",
       "1        4118.1396  0.100830      4217.0669          ...             \n",
       "2        4196.4634  0.101218      4248.4707          ...             \n",
       "3        4433.6772  0.101342      4441.8828          ...             \n",
       "4        4183.0449  0.101416      4304.9224          ...             \n",
       "\n",
       "   hostility_level_o  hostility_level_d     distance  common_language  \\\n",
       "0                  0                  0    120.05867                1   \n",
       "1                  0                  0    978.77728                1   \n",
       "2                  0                  0   8563.69630                0   \n",
       "3                  0                  0   7562.67330                0   \n",
       "4                  0                  0  16904.59600                1   \n",
       "\n",
       "   colony_of_destination_after45  colony_of_destination_current  \\\n",
       "0                              0                              0   \n",
       "1                              0                              0   \n",
       "2                              0                              0   \n",
       "3                              0                              0   \n",
       "4                              0                              0   \n",
       "\n",
       "   colony_of_destination_ever  colony_of_origin_after45  \\\n",
       "0                           0                         0   \n",
       "1                           0                         0   \n",
       "2                           0                         0   \n",
       "3                           0                         0   \n",
       "4                           0                         0   \n",
       "\n",
       "   colony_of_origin_current  colony_of_origin_ever  \n",
       "0                         0                      0  \n",
       "1                         0                      0  \n",
       "2                         0                      0  \n",
       "3                         0                      0  \n",
       "4                         0                      0  \n",
       "\n",
       "[5 rows x 70 columns]"
      ]
     },
     "execution_count": 5,
     "metadata": {},
     "output_type": "execute_result"
    }
   ],
   "source": [
    "# list object, remember to index to open correct table\n",
    "dataset_list[0].head()"
   ]
  },
  {
   "cell_type": "markdown",
   "metadata": {},
   "source": [
    "#### Corrections | release_1.0_2005_2016.csv "
   ]
  },
  {
   "cell_type": "code",
   "execution_count": 6,
   "metadata": {},
   "outputs": [],
   "source": [
    "# release_1.0_2005_2016.csv\n",
    "raw_df_dyn_grav_05_16 = dataset_list[0]"
   ]
  },
  {
   "cell_type": "code",
   "execution_count": 7,
   "metadata": {},
   "outputs": [
    {
     "data": {
      "text/html": [
       "<div>\n",
       "<style scoped>\n",
       "    .dataframe tbody tr th:only-of-type {\n",
       "        vertical-align: middle;\n",
       "    }\n",
       "\n",
       "    .dataframe tbody tr th {\n",
       "        vertical-align: top;\n",
       "    }\n",
       "\n",
       "    .dataframe thead th {\n",
       "        text-align: right;\n",
       "    }\n",
       "</style>\n",
       "<table border=\"1\" class=\"dataframe\">\n",
       "  <thead>\n",
       "    <tr style=\"text-align: right;\">\n",
       "      <th></th>\n",
       "      <th>country_d</th>\n",
       "      <th>country_o</th>\n",
       "      <th>contiguity</th>\n",
       "    </tr>\n",
       "  </thead>\n",
       "  <tbody>\n",
       "    <tr>\n",
       "      <th>71945</th>\n",
       "      <td>Bulgaria</td>\n",
       "      <td>Greece</td>\n",
       "      <td>0</td>\n",
       "    </tr>\n",
       "    <tr>\n",
       "      <th>72099</th>\n",
       "      <td>Bulgaria</td>\n",
       "      <td>Greece</td>\n",
       "      <td>0</td>\n",
       "    </tr>\n",
       "    <tr>\n",
       "      <th>72483</th>\n",
       "      <td>Bulgaria</td>\n",
       "      <td>Greece</td>\n",
       "      <td>0</td>\n",
       "    </tr>\n",
       "    <tr>\n",
       "      <th>72638</th>\n",
       "      <td>Bulgaria</td>\n",
       "      <td>Greece</td>\n",
       "      <td>0</td>\n",
       "    </tr>\n",
       "    <tr>\n",
       "      <th>72988</th>\n",
       "      <td>Bulgaria</td>\n",
       "      <td>Greece</td>\n",
       "      <td>0</td>\n",
       "    </tr>\n",
       "  </tbody>\n",
       "</table>\n",
       "</div>"
      ],
      "text/plain": [
       "      country_d country_o  contiguity\n",
       "71945  Bulgaria    Greece           0\n",
       "72099  Bulgaria    Greece           0\n",
       "72483  Bulgaria    Greece           0\n",
       "72638  Bulgaria    Greece           0\n",
       "72988  Bulgaria    Greece           0"
      ]
     },
     "execution_count": 7,
     "metadata": {},
     "output_type": "execute_result"
    }
   ],
   "source": [
    "# preview problematic part of dataset\n",
    "temp_column_view = [\"country_d\",\"country_o\",\"contiguity\"]\n",
    "\n",
    "# filter on greece and bulgaria\n",
    "raw_df_dyn_grav_05_16[\n",
    "    # filter the Bulgaria - Greece combo or the Bulgaria - Greece combo\n",
    "    ((raw_df_dyn_grav_05_16.iso3_d == \"GRC\") & (raw_df_dyn_grav_05_16.iso3_o == \"BGR\")) \n",
    "    |\n",
    "    ((raw_df_dyn_grav_05_16.iso3_d == \"BGR\") & (raw_df_dyn_grav_05_16.iso3_o == \"GRC\"))\n",
    "                     ].loc[:,temp_column_view].head()"
   ]
  },
  {
   "cell_type": "code",
   "execution_count": 8,
   "metadata": {},
   "outputs": [],
   "source": [
    "# correct lack of contiguity between bulgaria and greece\n",
    "temp_index = raw_df_dyn_grav_05_16[\n",
    "    # filter the Bulgaria - Greece combo or the Bulgaria - Greece combo\n",
    "    ((raw_df_dyn_grav_05_16.iso3_d == \"GRC\") & (raw_df_dyn_grav_05_16.iso3_o == \"BGR\")) \n",
    "    |\n",
    "    ((raw_df_dyn_grav_05_16.iso3_d == \"BGR\") & (raw_df_dyn_grav_05_16.iso3_o == \"GRC\"))\n",
    "                     ].index"
   ]
  },
  {
   "cell_type": "code",
   "execution_count": 9,
   "metadata": {},
   "outputs": [],
   "source": [
    "# update values\n",
    "raw_df_dyn_grav_05_16.loc[list(temp_index),\"contiguity\"] = 1"
   ]
  },
  {
   "cell_type": "markdown",
   "metadata": {},
   "source": [
    "<a id=\"ID_export\"></a>\n",
    "### Export\n",
    "\n",
    "|| [0|Top](#ID_top) || [1|Filepaths](#ID_paths) || [2|Filenames](#ID_names) || [3|Load](#ID_load) || [4|Correct](#ID_correct) || [5|Export](#ID_export) ||"
   ]
  },
  {
   "cell_type": "code",
   "execution_count": 11,
   "metadata": {},
   "outputs": [],
   "source": [
    "# Files to export\n",
    "file_export = [raw_df_dyn_grav_05_16]\n",
    "file_names = [\"dynamic_gravity\"]"
   ]
  },
  {
   "cell_type": "code",
   "execution_count": 12,
   "metadata": {},
   "outputs": [],
   "source": [
    "# run through all files\n",
    "for index,file in enumerate(file_export):\n",
    "    # set current time and version\n",
    "    temp_now = datetime.now()\n",
    "    time_of_export = temp_now.strftime(\"%Y%m%d_%H%M\")\n",
    "    # Back up repository\n",
    "    temp_back_up_name = f\"{file_path_1_backup}store_{file_names[index]}_{time_of_export}.csv\"\n",
    "    # export\n",
    "    compression_type = \"gzip\"\n",
    "    temp_compress_name = temp_back_up_name+\".\"+compression_type\n",
    "    file.to_csv(temp_back_up_name+\".\"+compression_type,compression = compression_type)\n",
    "    # copy to live folder\n",
    "    temp_live_name = f\"{file_path_2_input}input_{file_names[index]}.csv.{compression_type}\"\n",
    "    copyfile(temp_compress_name,temp_live_name)"
   ]
  }
 ],
 "metadata": {
  "kernelspec": {
   "display_name": "Python 3",
   "language": "python",
   "name": "python3"
  },
  "language_info": {
   "codemirror_mode": {
    "name": "ipython",
    "version": 3
   },
   "file_extension": ".py",
   "mimetype": "text/x-python",
   "name": "python",
   "nbconvert_exporter": "python",
   "pygments_lexer": "ipython3",
   "version": "3.7.4"
  }
 },
 "nbformat": 4,
 "nbformat_minor": 2
}
