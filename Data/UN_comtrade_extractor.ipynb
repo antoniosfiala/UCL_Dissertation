{
 "cells": [
  {
   "cell_type": "markdown",
   "metadata": {},
   "source": [
    "<a id=\"ID_top\"></a>\n",
    "## UNCOMTRADE API extractor\n",
    "\n",
    "Outline purpose of workflow."
   ]
  },
  {
   "cell_type": "markdown",
   "metadata": {},
   "source": [
    "#### load other scripts with \n",
    "`%load script_filepaths.py`"
   ]
  },
  {
   "cell_type": "markdown",
   "metadata": {},
   "source": [
    "#### Notebook sections:\n",
    "    \n",
    "|| [0|Top](#ID_top) || [1|Part1](#ID_part1) || [2|Part2](#ID_part2) || [3|Part3](#ID_part3) || [4|Part4](#ID_part4) || [5|Part5](#ID_part5) ||"
   ]
  },
  {
   "cell_type": "code",
   "execution_count": 7,
   "metadata": {},
   "outputs": [],
   "source": [
    "# %load script_un_comtrade_extract.py\n",
    "# Packages just in case\n",
    "#=== Packages\n",
    "import os\n",
    "import pandas as pd\n",
    "import requests\n",
    "import csv\n",
    "import time"
   ]
  },
  {
   "cell_type": "code",
   "execution_count": 2,
   "metadata": {},
   "outputs": [],
   "source": [
    "import script_un_comtrade_extract as un_ex\n",
    "import script_filepaths as af_save"
   ]
  },
  {
   "cell_type": "code",
   "execution_count": 5,
   "metadata": {},
   "outputs": [],
   "source": [
    "file_path_0_raw       = \"./0_raw/\"\n",
    "file_path_1_backup    = \"./1_raw_processed_backup/\"\n",
    "file_path_2_input     = \"./2_raw_processed_input/\"\n",
    "file_path_3_generated = \"./3_generated_inputs/\""
   ]
  },
  {
   "cell_type": "markdown",
   "metadata": {},
   "source": [
    "<a id=\"ID_part1\"></a>\n",
    "### Set up fetching URL\n",
    "|| [0|Top](#ID_top) || [1|Part1](#ID_part1) || [2|Part2](#ID_part2) || [3|Part3](#ID_part3) || [4|Part4](#ID_part4) || [5|Part5](#ID_part5) ||\n",
    "\n",
    "Key for URL get headings: https://comtrade.un.org/api/swagger/ui/index#!/Data/Data_GetData\n",
    "<br>Reporter explanation: https://comtrade.un.org/data/doc/api/#reporters\n",
    "\n",
    "Reporter ids: https://comtrade.un.org/Data/cache/reporterAreas.json"
   ]
  },
  {
   "cell_type": "code",
   "execution_count": null,
   "metadata": {},
   "outputs": [],
   "source": [
    "#\"854\",\"300\", #|| 842 is the Unite States which should give us enough coverage of most countries to fetch their UN numerical IDs \n",
    "un_extract = un_ex.f_un_comtrade_data(p_r_country = [\"842\"],p_p_country = [\"all\"])"
   ]
  },
  {
   "cell_type": "code",
   "execution_count": 4,
   "metadata": {},
   "outputs": [],
   "source": [
    "af_save.f_export(un_extract[0][0],\"un_com_usa_ref\")"
   ]
  },
  {
   "cell_type": "markdown",
   "metadata": {},
   "source": [
    "<a id=\"ID_part2\"></a>\n",
    "### Part 2 | Create reference document for UN IDs\n",
    "|| [0|Top](#ID_top) || [1|Part1](#ID_part1) || [2|Part2](#ID_part2) || [3|Part3](#ID_part3) || [4|Part4](#ID_part4) || [5|Part5](#ID_part5) ||"
   ]
  },
  {
   "cell_type": "code",
   "execution_count": 9,
   "metadata": {},
   "outputs": [
    {
     "name": "stdout",
     "output_type": "stream",
     "text": [
      "['input_un_com_usa_ref.csv.gzip', 'input_bri_countries_Dumor_Yao.csv.gzip', '2_raw_explainer_doc.md', 'input_dynamic_gravity.csv.gzip', 'input_un_sample.csv.gzip']\n"
     ]
    }
   ],
   "source": [
    "# list of all files\n",
    "filenames = os.listdir(file_path_2_input)\n",
    "print(filenames)\n",
    "\n",
    "# list of file names that can be read with same rule\n",
    "file_name = \"input_un_com_usa_ref.csv.gzip\""
   ]
  },
  {
   "cell_type": "code",
   "execution_count": 12,
   "metadata": {},
   "outputs": [],
   "source": [
    "df_un_usa_ref = pd.read_csv(f\"{file_path_2_input}{file_name}\",compression= \"gzip\")"
   ]
  },
  {
   "cell_type": "code",
   "execution_count": 21,
   "metadata": {},
   "outputs": [
    {
     "data": {
      "text/plain": [
       "Index(['Unnamed: 0', 'AltQuantity', 'CIFValue', 'FOBValue', 'GrossWeight',\n",
       "       'IsLeaf', 'NetWeight', 'TradeQuantity', 'TradeValue', 'aggrLevel',\n",
       "       'cmdCode', 'cmdDescE', 'cstCode', 'cstDesc', 'estCode', 'motCode',\n",
       "       'motDesc', 'period', 'periodDesc', 'pfCode', 'pt3ISO', 'pt3ISO2',\n",
       "       'ptCode', 'ptCode2', 'ptTitle', 'ptTitle2', 'qtAltCode', 'qtAltDesc',\n",
       "       'qtCode', 'qtDesc', 'rgCode', 'rgDesc', 'rt3ISO', 'rtCode', 'rtTitle',\n",
       "       'yr'],\n",
       "      dtype='object')"
      ]
     },
     "execution_count": 21,
     "metadata": {},
     "output_type": "execute_result"
    }
   ],
   "source": [
    "useful_columns = ['pt3ISO','ptCode','ptTitle','pt3ISO2',\n",
    "       'ptCode2',  'ptTitle2']\n",
    "df_un_usa_ref.columns"
   ]
  },
  {
   "cell_type": "code",
   "execution_count": 29,
   "metadata": {},
   "outputs": [],
   "source": [
    "# reference dataframe\n",
    "un_ref_data = df_un_usa_ref.loc[:,useful_columns].drop_duplicates()\n",
    "un_ref_data = un_ref_data.iloc[:,0:3].copy()\n",
    "\n",
    "af_save.f_export(un_ref_data,\"un_codes_ref\")"
   ]
  },
  {
   "cell_type": "markdown",
   "metadata": {},
   "source": [
    "<a id=\"ID_part3\"></a>\n",
    "### Part 3\n",
    "|| [0|Top](#ID_top) || [1|Part1](#ID_part1) || [2|Part2](#ID_part2) || [3|Part3](#ID_part3) || [4|Part4](#ID_part4) || [5|Part5](#ID_part5) ||"
   ]
  },
  {
   "cell_type": "code",
   "execution_count": null,
   "metadata": {},
   "outputs": [],
   "source": []
  },
  {
   "cell_type": "markdown",
   "metadata": {},
   "source": [
    "<a id=\"ID_part4\"></a>\n",
    "### Part 4\n",
    "|| [0|Top](#ID_top) || [1|Part1](#ID_part1) || [2|Part2](#ID_part2) || [3|Part3](#ID_part3) || [4|Part4](#ID_part4) || [5|Part5](#ID_part5) ||"
   ]
  },
  {
   "cell_type": "code",
   "execution_count": null,
   "metadata": {},
   "outputs": [],
   "source": []
  },
  {
   "cell_type": "markdown",
   "metadata": {},
   "source": [
    "<a id=\"ID_part5\"></a>\n",
    "### Part 5\n",
    "|| [0|Top](#ID_top) || [1|Part1](#ID_part1) || [2|Part2](#ID_part2) || [3|Part3](#ID_part3) || [4|Part4](#ID_part4) || [5|Part5](#ID_part5) ||"
   ]
  }
 ],
 "metadata": {
  "kernelspec": {
   "display_name": "Python 3",
   "language": "python",
   "name": "python3"
  },
  "language_info": {
   "codemirror_mode": {
    "name": "ipython",
    "version": 3
   },
   "file_extension": ".py",
   "mimetype": "text/x-python",
   "name": "python",
   "nbconvert_exporter": "python",
   "pygments_lexer": "ipython3",
   "version": "3.7.4"
  }
 },
 "nbformat": 4,
 "nbformat_minor": 2
}
